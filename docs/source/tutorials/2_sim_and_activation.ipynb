{
 "cells": [
  {
   "cell_type": "markdown",
   "metadata": {},
   "source": [
    "# Basic simulation and search for activation threshold\n",
    "This tutorial will use the fiber model created in the [fiber creation tutorial](1_create_fiber.ipynb) to run a basic simulation of fiber stimulation. Then we will demonstrate running a bisection search for the fiber's activation threshold (i.e, minimum stimulation ampltude needed to generate an action potential)."
   ]
  },
  {
   "cell_type": "markdown",
   "metadata": {},
   "source": [
    "## Create the fiber\n",
    "As in the [fiber creation tutorial](1_create_fiber.ipynb), we use `build_fiber` to create a 10 μm diameter MRG fiber."
   ]
  },
  {
   "cell_type": "code",
   "execution_count": null,
   "metadata": {},
   "outputs": [],
   "source": [
    "from pyfibers import build_fiber, FiberModel\n",
    "\n",
    "# create fiber model\n",
    "n_nodes = 25\n",
    "fiber = build_fiber(FiberModel.MRG_INTERPOLATION, diameter=10, n_nodes=n_nodes)"
   ]
  },
  {
   "cell_type": "markdown",
   "metadata": {},
   "source": [
    "## Simulation setup"
   ]
  },
  {
   "cell_type": "markdown",
   "metadata": {},
   "source": [
    "Before we can run a simulation, we need to create a stimulation waveform (i.e., I(t), the time-course of the extracellular stimulation). We use a biphasic rectangular pulse in this tutorial.\n",
    "\n",
    "See documentation on stimulation waveforms for more information on creating different waveforms."
   ]
  },
  {
   "cell_type": "code",
   "execution_count": null,
   "metadata": {},
   "outputs": [],
   "source": [
    "import numpy as np\n",
    "\n",
    "waveform = np.concatenate((np.zeros(100), np.ones(100), np.zeros(48000)))  # monophasic rectangular pulse"
   ]
  },
  {
   "cell_type": "markdown",
   "metadata": {},
   "source": [
    "Plot the waveform to see what it looks like."
   ]
  },
  {
   "cell_type": "code",
   "execution_count": null,
   "metadata": {},
   "outputs": [],
   "source": [
    "import matplotlib.pyplot as plt\n",
    "\n",
    "plt.plot(waveform[:1000])\n",
    "plt.title('Stimulation waveform')\n",
    "plt.xlabel('Time step index')\n",
    "plt.ylabel('Normalized Amplitude')\n",
    "plt.show()"
   ]
  },
  {
   "cell_type": "markdown",
   "metadata": {},
   "source": [
    "We also need extracellular potentials along the length of the fiber. We will use an extracellular point source for this tutorial, 250 microns from the fiber, positioned over its center. Our fiber has 265 sections, so we need 265 potentials (i.e., one for the middle of each section). Typically extracellular potentials are generated with a \"unit\" current source (i.e., 1 mA).\n",
    "\n",
    "In many cases, users will want to use electrical potentials generated using an outside source (e.g., finite element model). See our documentation on [extracellular potentials](../extracellular_potentials.md) for more information."
   ]
  },
  {
   "cell_type": "code",
   "execution_count": null,
   "metadata": {},
   "outputs": [],
   "source": [
    "fiber.potentials = fiber.point_source_potentials(0, 250, fiber.length / 2, 1, 10)\n",
    "\n",
    "plt.plot(fiber.longitudinal_coordinates, fiber.potentials)\n",
    "plt.xlabel('Distance along fiber (μm)')\n",
    "plt.ylabel('Electrical potential (mV)')\n",
    "plt.title('Extracellular potentials')\n",
    "plt.show()"
   ]
  },
  {
   "cell_type": "markdown",
   "metadata": {},
   "source": [
    "## Running a simulation"
   ]
  },
  {
   "cell_type": "markdown",
   "metadata": {},
   "source": [
    "Specify our simulation parameters as constants."
   ]
  },
  {
   "cell_type": "code",
   "execution_count": null,
   "metadata": {},
   "outputs": [],
   "source": [
    "time_step = 0.001  # milliseconds\n",
    "time_stop = 20  # milliseconds"
   ]
  },
  {
   "cell_type": "markdown",
   "metadata": {},
   "source": [
    "To run a simulation, we need an instance of the ScaledStim class. This class is used to run simulations of a fiber's response to a stimulation waveform. For more information on parameters, see the [ScaledStim Documentation](../autodoc/stimulation.rst)"
   ]
  },
  {
   "cell_type": "code",
   "execution_count": null,
   "metadata": {},
   "outputs": [],
   "source": [
    "from pyfibers import ScaledStim\n",
    "\n",
    "# Create instance of Stimulation class\n",
    "stimulation = ScaledStim(waveform=waveform, dt=time_step, tstop=time_stop)\n",
    "print(stimulation)"
   ]
  },
  {
   "cell_type": "markdown",
   "metadata": {},
   "source": [
    "We can use the `run_sim()` method of the ScaledStim class to run a simulation. By default, this method monitors for action potentials at the distal end of the fiber. `run_sim()` returns the number of detected action potentials and the time of the last action potential. Since we used a unit current source (1 mA), our stimamp (stimulation amplitude) here represents the current of the stimulus (in mA)."
   ]
  },
  {
   "cell_type": "code",
   "execution_count": null,
   "metadata": {},
   "outputs": [],
   "source": [
    "stimamp = -1.5  # technically unitless, but scales the unit (1 mA) stimulus to 1.5 mA\n",
    "ap, time = stimulation.run_sim(stimamp, fiber)\n",
    "print(f'Number of action potentials detected: {ap}')\n",
    "print(f'Time of last action potential detection: {time} ms')"
   ]
  },
  {
   "cell_type": "markdown",
   "metadata": {},
   "source": [
    "## Run search for activation threshold"
   ]
  },
  {
   "cell_type": "markdown",
   "metadata": {},
   "source": [
    "If we want to determine the activation thresholds, we can use the `find_threshold()` method.\n",
    "This method returns the stimulation amplitude at which the fiber begins to activate, and the number of generated action potentials. The threshold amplitude is calculated using a bisection search *link to info*."
   ]
  },
  {
   "cell_type": "code",
   "execution_count": null,
   "metadata": {},
   "outputs": [],
   "source": [
    "amp, ap = stimulation.find_threshold(fiber)\n",
    "print(f'Activation threshold: {amp} mA')"
   ]
  },
  {
   "cell_type": "markdown",
   "metadata": {},
   "source": [
    "## Intracellular stimulation\n",
    "We can also use intracellular stimulation by using the set_intracellular_stim() method of the Stimulation class."
   ]
  },
  {
   "cell_type": "code",
   "execution_count": null,
   "metadata": {},
   "outputs": [],
   "source": [
    "from pyfibers import StimAmpTarget  # TODO change to intrastim\n",
    "\n",
    "# reset fiber potentials to zero to eliminate extracellular stimulation\n",
    "fiber.potentials = np.zeros(len(fiber.coordinates))\n",
    "\n",
    "# Intracellular stimulation arguments\n",
    "delay = 1.0  # milliseconds\n",
    "pulse_width = 0.1  # milliseconds, per pulse\n",
    "dur = 10  # milliseconds, total duration of stimulation\n",
    "freq = 1000  # pulse repetition frequency in Hz\n",
    "amp = 1  # nA, intracellular current amplitude. We'll set to 1 and scale with run_sim\n",
    "loc = 0.5  # location of the intracellular electrode along the fiber\n",
    "\n",
    "stimulation.set_intracellular_stim(delay, pulse_width, dur, freq, amp, loc=loc)\n",
    "stimulation.waveform = [0]  # set waveform to zero to eliminate extracellular stimulation\n",
    "\n",
    "# Run simulation with intracellular stimulation\n",
    "stimamp = 2  # nA, positive since stimulation is intracellular\n",
    "ap, time = stimulation.run_sim(stimamp, fiber, stimamp_target=StimAmpTarget.INTRACELLULAR)\n",
    "print(f'Number of action potentials detected: {ap}')\n",
    "print(f'Time of last action potential detection: {time} ms')"
   ]
  },
  {
   "cell_type": "markdown",
   "metadata": {},
   "source": [
    "As before, we can run a search for activation threshold"
   ]
  },
  {
   "cell_type": "code",
   "execution_count": null,
   "metadata": {},
   "outputs": [],
   "source": [
    "amp, ap = stimulation.find_threshold(fiber, stimamp_target=StimAmpTarget.INTRACELLULAR, stimamp_top=1, stimamp_bottom=0)\n",
    "print(f'Activation threshold: {amp} nA')"
   ]
  },
  {
   "cell_type": "markdown",
   "metadata": {},
   "source": [
    "See also the tutorial for [analyzing results](3_analysis.ipynb)."
   ]
  }
 ],
 "metadata": {
  "kernelspec": {
   "display_name": "base",
   "language": "python",
   "name": "python3"
  },
  "language_info": {
   "codemirror_mode": {
    "name": "ipython",
    "version": 3
   },
   "file_extension": ".py",
   "mimetype": "text/x-python",
   "name": "python",
   "nbconvert_exporter": "python",
   "pygments_lexer": "ipython3",
   "version": "3.12.3"
  }
 },
 "nbformat": 4,
 "nbformat_minor": 1
}
