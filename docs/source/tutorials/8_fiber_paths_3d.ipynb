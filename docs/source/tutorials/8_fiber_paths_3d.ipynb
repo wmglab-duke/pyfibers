{
 "cells": [
  {
   "cell_type": "markdown",
   "metadata": {},
   "source": [
    "# Creating fibers using 3D coordinates\n",
    "\n",
    "Note: this tutorial will use a lot of code explained in the [simulation tutorial](2_sim_and_activation.ipynb) and the [resampling potentials tutorial](4_resampling_potentials.ipynb), so it is recommended to review them before proceeding."
   ]
  },
  {
   "cell_type": "markdown",
   "metadata": {},
   "source": [
    "## Creating 3D fiber path and potentials\n",
    "Normally, you might use 3D fiber coordinates alongside potentials that you obtained from an external source (e.g., COMSOL, ANSYS, etc.). For the purpose of this tutorial, we will create a fiber path using a 3D spiral and create potentials using a Gaussian curve. By default, the start of the fiber will be placed at the first coordinate along the path and extend until no more sections can be added. Later in this tutorial, we demonstrate how to shift the fiber to a specific location (typically to achieve some positioning of nodes of Ranvier for myelinated fibers)."
   ]
  },
  {
   "cell_type": "code",
   "execution_count": null,
   "metadata": {},
   "outputs": [],
   "source": [
    "# Creating the spiral path for the fiber\n",
    "import numpy as np\n",
    "import matplotlib.pyplot as plt\n",
    "\n",
    "# Define parameters for the spiral\n",
    "height = 1000  # total height of the spiral\n",
    "turns = 5  # number of turns in the spiral\n",
    "radius = 1000  # radius of the spiral\n",
    "points_per_turn = 20  # points per turn\n",
    "\n",
    "# Generate the spiral coordinates\n",
    "t = np.linspace(0, 2 * np.pi * turns, points_per_turn * turns)\n",
    "x = radius * np.cos(t)\n",
    "y = radius * np.sin(t)\n",
    "z = np.linspace(0, height, points_per_turn * turns)\n",
    "\n",
    "# Combine into a single array for path coordinates\n",
    "path_coordinates = np.column_stack((x, y, z))\n",
    "\n",
    "# Plot the generated path to visualize it\n",
    "fig = plt.figure()\n",
    "ax = fig.add_subplot(111, projection='3d')\n",
    "ax.plot(x, y, z)\n",
    "ax.set_title(\"3D Spiral Path for Fiber\")\n",
    "ax.set_xlabel(\"X axis\")\n",
    "ax.set_ylabel(\"Y axis\")\n",
    "ax.set_zlabel(\"Z axis\")\n",
    "plt.show()"
   ]
  },
  {
   "cell_type": "code",
   "execution_count": null,
   "metadata": {},
   "outputs": [],
   "source": [
    "# Creating potentials along the fiber\n",
    "# Calculate the length along the fiber\n",
    "fiber_length = np.sqrt(np.sum(np.diff(path_coordinates, axis=0) ** 2, axis=1)).sum()\n",
    "\n",
    "# Generate the Gaussian curve of potentials\n",
    "# Set the mean at the center of the fiber and standard deviation as a fraction of the fiber length\n",
    "mean = fiber_length / 2\n",
    "std_dev = fiber_length / 50  # Smaller value gives a narrower peak\n",
    "\n",
    "# Create an array representing the linear distance along the fiber\n",
    "linear_distance = np.linspace(0, fiber_length, len(path_coordinates))\n",
    "\n",
    "# Generate Gaussian distributed potentials\n",
    "potentials = np.exp(-((linear_distance - mean) ** 2 / (2 * std_dev**2)))\n",
    "\n",
    "# Normalize potentials for better visualization or use\n",
    "potentials /= np.max(potentials)\n",
    "\n",
    "# Scale to a maximum of 500 mV\n",
    "potentials *= 500\n",
    "\n",
    "# Plot the Gaussian distribution of potentials along the fiber\n",
    "plt.figure()\n",
    "plt.plot(linear_distance, potentials, label='Gaussian Potentials')\n",
    "plt.xlabel('Distance along fiber (µm)')\n",
    "plt.ylabel('Potential (mV)')\n",
    "plt.title('Gaussian Distribution of Potentials along fiber path')\n",
    "plt.legend()\n",
    "plt.show()"
   ]
  },
  {
   "cell_type": "markdown",
   "metadata": {},
   "source": [
    "## Resampling 3D potentials\n",
    "For this tutorial, we will create a fiber model using the MRG model using the same process as the [fiber creation tutorial](1_create_fiber.ipynb). Instead of specifying the length or number of sections, we provide the coordinates of the 3D fiber path. Since we want a 3D fiber, we must use the function {py:func}`~pyfibers.fiber.build_fiber_3d()` instead."
   ]
  },
  {
   "cell_type": "code",
   "execution_count": null,
   "metadata": {},
   "outputs": [],
   "source": [
    "from pyfibers import FiberModel, build_fiber_3d\n",
    "\n",
    "fiber = build_fiber_3d(\n",
    "    FiberModel.MRG_INTERPOLATION, diameter=10, path_coordinates=path_coordinates\n",
    ")\n",
    "print(fiber)\n",
    "print('Fiber is 3D?', fiber.is_3d())"
   ]
  },
  {
   "cell_type": "markdown",
   "metadata": {},
   "source": [
    "We can either:\n",
    "- use the {py:meth}`~pyfibers.fiber.Fiber.resample_potentials_3d()` method of the fiber object to get the potentials at the center of each fiber section. (not recommended)\n",
    "- or calculate arc lengths and use {py:meth}`~pyfibers.fiber.Fiber.resample_potentials()` to get the potentials. (recommended)"
   ]
  },
  {
   "cell_type": "code",
   "execution_count": null,
   "metadata": {},
   "outputs": [],
   "source": [
    "# Using the resample_potentials_3d() method to resample the potentials along the fiber path\n",
    "fiber.resample_potentials_3d(\n",
    "    potentials=potentials, potential_coords=path_coordinates, center=True, inplace=True\n",
    ")\n",
    "\n",
    "plt.figure()\n",
    "plt.plot(\n",
    "    fiber.longitudinal_coordinates,\n",
    "    fiber.potentials,\n",
    "    marker='o',\n",
    "    label='resample_potentials_3d()',\n",
    ")\n",
    "plt.xlabel('Distance along fiber (µm)')\n",
    "plt.ylabel('Potential (mV)')\n",
    "plt.title('Resampled Potentials along Fiber')\n",
    "\n",
    "# Calculating arc lengths and using resample_potentials()\n",
    "arc_lengths = np.concatenate(\n",
    "    ([0], np.cumsum(np.sqrt(np.sum(np.diff(path_coordinates, axis=0) ** 2, axis=1))))\n",
    ")\n",
    "fiber.resample_potentials(\n",
    "    potentials=potentials, potential_coords=arc_lengths, center=True, inplace=True\n",
    ")\n",
    "plt.plot(\n",
    "    fiber.longitudinal_coordinates,\n",
    "    fiber.potentials,\n",
    "    marker='x',\n",
    "    label='resample_potentials()',\n",
    "    alpha=0.6,\n",
    "    color='k',\n",
    ")"
   ]
  },
  {
   "cell_type": "markdown",
   "metadata": {},
   "source": [
    "## Simulation\n",
    "We will use the same simulation setup as before."
   ]
  },
  {
   "cell_type": "code",
   "execution_count": null,
   "metadata": {
    "pycharm": {
     "is_executing": true
    }
   },
   "outputs": [],
   "source": [
    "import numpy as np\n",
    "from pyfibers import ScaledStim\n",
    "from scipy.interpolate import interp1d\n",
    "\n",
    "# Setup for simulation\n",
    "time_step = 0.001  # milliseconds\n",
    "time_stop = 15  # milliseconds\n",
    "start, on, off = 0, 0.1, 0.2\n",
    "waveform = interp1d(\n",
    "    [start, on, off, time_stop], [1, -1, 0, 0], kind=\"previous\"\n",
    ")  # biphasic rectangular pulse\n",
    "\n",
    "# Create stimulation object\n",
    "stimulation = ScaledStim(waveform=waveform, dt=time_step, tstop=time_stop)"
   ]
  },
  {
   "cell_type": "markdown",
   "metadata": {},
   "source": [
    "and then run a fixed amplitude simulation:"
   ]
  },
  {
   "cell_type": "code",
   "execution_count": null,
   "metadata": {},
   "outputs": [],
   "source": [
    "ap, time = stimulation.run_sim(-1.5, fiber)\n",
    "print(f'Number of action potentials detected: {ap}')\n",
    "print(f'Time of last action potential detection: {time} ms')"
   ]
  },
  {
   "cell_type": "markdown",
   "metadata": {},
   "source": [
    "## Creating potentials from a point source\n",
    "In the previous example, we created potentials using a Gaussian curve. In this example, we will create potentials using a point source. We will use the same fiber path as before, but we will calculate the potentials from a point source near the 3D fiber path."
   ]
  },
  {
   "cell_type": "code",
   "execution_count": null,
   "metadata": {},
   "outputs": [],
   "source": [
    "# Calculate point source potentials at all fiber coordinates\n",
    "x, y, z = 800, 800, 500  # Point source location\n",
    "i0 = 1  # Current of the point source\n",
    "sigma = 1  # Isotropic conductivity\n",
    "fiber_potentials = fiber.point_source_potentials(x, y, z, i0, sigma, inplace=True)\n",
    "\n",
    "# Plot\n",
    "plt.figure()\n",
    "plt.plot(fiber.longitudinal_coordinates, fiber.potentials, marker='o')\n",
    "plt.xlabel('Distance along fiber (µm)')\n",
    "plt.ylabel('Potential (mV)')\n",
    "plt.title('Fiber potentials from point source')\n",
    "plt.show()"
   ]
  },
  {
   "cell_type": "markdown",
   "metadata": {},
   "source": [
    "The potentials have several peaks, which would be expected from the location where we placed the point source."
   ]
  },
  {
   "cell_type": "code",
   "execution_count": null,
   "metadata": {},
   "outputs": [],
   "source": [
    "# Plot the fiber with the point source\n",
    "fig = plt.figure()\n",
    "ax = fig.add_subplot(111, projection='3d')\n",
    "ax.plot(x, y, z, 'ro', label='Point Source')\n",
    "ax.plot(\n",
    "    fiber.coordinates[:, 0],\n",
    "    fiber.coordinates[:, 1],\n",
    "    fiber.coordinates[:, 2],\n",
    "    label='Fiber Path',\n",
    ")\n",
    "ax.set_title('Fiber Path with Point Source')\n",
    "ax.set_xlabel('X axis')\n",
    "ax.set_ylabel('Y axis')\n",
    "ax.set_zlabel('Z axis')\n",
    "plt.legend()"
   ]
  },
  {
   "cell_type": "markdown",
   "metadata": {},
   "source": [
    "## Creating fibers with a shift along the 3D path\n",
    "The prior examples created fibers with the start of the fiber at the beginning of the path. Users may wish to specify a shift along this 3D path to achieve a specific positioning of nodes of Ranvier for myelinated fibers. We can achieve this by specifying the shift along the 3D path using the `shift` parameter in the {py:func}`~pyfibers.fiber.build_fiber_3d()` function. For this example, we will use a path in 2D space to make it easier to visualize the shift."
   ]
  },
  {
   "cell_type": "code",
   "execution_count": null,
   "metadata": {},
   "outputs": [],
   "source": [
    "# Generate a right angle for fiber path\n",
    "x = [0, 10000, 10000]\n",
    "y = [0, 0, 10000]\n",
    "z = [0, 0, 0]\n",
    "path_coordinates = np.array([x, y, z]).T\n",
    "\n",
    "model = FiberModel.MRG_INTERPOLATION\n",
    "# Create the fiber using the 3D path. Large diameter to space out the nodes\n",
    "fiber = build_fiber_3d(\n",
    "    diameter=16,\n",
    "    fiber_model=model,\n",
    "    temperature=37,\n",
    "    path_coordinates=path_coordinates,\n",
    "    passive_end_nodes=2,\n",
    ")\n",
    "\n",
    "\n",
    "def fiber_plot(title):\n",
    "    \"\"\"Plot the fiber path and coordinates.\"\"\"  # noqa: DAR101\n",
    "    plt.figure()\n",
    "    # Plot fiber path\n",
    "    plt.plot(x, y, lw=10, color='gray', alpha=0.3, label='fiber path')\n",
    "    # Plot fiber coordinates\n",
    "    plt.plot(\n",
    "        fiber.coordinates[:, 0],\n",
    "        fiber.coordinates[:, 1],\n",
    "        marker='o',\n",
    "        markersize=5,\n",
    "        lw=0,\n",
    "        label='fiber coordinates',\n",
    "        color='black',\n",
    "    )\n",
    "    plt.plot(\n",
    "        fiber.coordinates[:, 0][::11],\n",
    "        fiber.coordinates[:, 1][::11],\n",
    "        marker='o',\n",
    "        markersize=5,\n",
    "        lw=0,\n",
    "        c='r',\n",
    "        label='nodes',\n",
    "    )\n",
    "    plt.title(title)\n",
    "    plt.gca().set_aspect('equal')\n",
    "    plt.legend()\n",
    "\n",
    "\n",
    "fiber_plot('Fiber coordinates (no shift)')"
   ]
  },
  {
   "cell_type": "markdown",
   "metadata": {},
   "source": [
    "We can see that the fiber has been created starting at the beginning of the path. We might want to center the fiber along the path. We can do this by setting `center_shift=True`."
   ]
  },
  {
   "cell_type": "code",
   "execution_count": null,
   "metadata": {},
   "outputs": [],
   "source": [
    "# Create the fiber using the 3D path, centering the fiber coordinates\n",
    "fiber = build_fiber_3d(\n",
    "    diameter=16,\n",
    "    fiber_model=model,\n",
    "    temperature=37,\n",
    "    path_coordinates=path_coordinates,\n",
    "    passive_end_nodes=2,\n",
    "    center_shift=True,\n",
    "    shift_ratio=0.5,\n",
    ")\n",
    "\n",
    "fiber_plot('Fiber coordinates (centered)')"
   ]
  },
  {
   "cell_type": "markdown",
   "metadata": {},
   "source": [
    "We might want to specify a `shift` amount along the path. We can do this by setting `shift` to a value in micrometers, or `shift_ratio` to a float that represents a proportion of the fiber's internodal length. Note that distances greater than one internodal length will only be shifted by the remainder (e.g., for a 16 µm diameter fiber with an internodal length of 1600 µm, a `shift` of 2100 µm will be equivalent to a `shift` of 500 µm, and a `shift_ratio` of 1.5 is equivalent to a `shift_ratio` of 0.5)."
   ]
  },
  {
   "cell_type": "code",
   "execution_count": null,
   "metadata": {},
   "outputs": [],
   "source": [
    "# Create the fiber using the 3D path, with no shift\n",
    "fiber = build_fiber_3d(\n",
    "    diameter=16,\n",
    "    fiber_model=model,\n",
    "    temperature=37,\n",
    "    path_coordinates=path_coordinates,\n",
    "    passive_end_nodes=2,\n",
    ")\n",
    "fiber_plot('Fiber coordinates (no shift)')\n",
    "\n",
    "# Create the fiber, shifting by 200 µm\n",
    "fiber = build_fiber_3d(\n",
    "    diameter=16,\n",
    "    fiber_model=model,\n",
    "    temperature=37,\n",
    "    path_coordinates=path_coordinates,\n",
    "    passive_end_nodes=2,\n",
    "    shift=200,\n",
    ")\n",
    "fiber_plot('Fiber coordinates (shifted by 200 µm)')\n",
    "\n",
    "# Create the fiber, shifting by half the internodal length using shift_ratio\n",
    "fiber = build_fiber_3d(\n",
    "    diameter=16,\n",
    "    fiber_model=model,\n",
    "    temperature=37,\n",
    "    path_coordinates=path_coordinates,\n",
    "    passive_end_nodes=2,\n",
    "    shift_ratio=0.5,\n",
    ")\n",
    "fiber_plot('Fiber coordinates (shifted by half the internodal length)')"
   ]
  }
 ],
 "metadata": {
  "kernelspec": {
   "display_name": "pyfibers_dev",
   "language": "python",
   "name": "python3"
  },
  "language_info": {
   "codemirror_mode": {
    "name": "ipython",
    "version": 3
   },
   "file_extension": ".py",
   "mimetype": "text/x-python",
   "name": "python",
   "nbconvert_exporter": "python",
   "pygments_lexer": "ipython3",
   "version": "3.11.9"
  }
 },
 "nbformat": 4,
 "nbformat_minor": 4
}
