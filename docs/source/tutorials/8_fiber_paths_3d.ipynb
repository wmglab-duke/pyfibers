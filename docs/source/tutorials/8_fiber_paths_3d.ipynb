{
 "cells": [
  {
   "cell_type": "markdown",
   "metadata": {},
   "source": [
    "# Creating fibers using 3D coordinates\n",
    "\n",
    "```{note}\n",
    "This tutorial will use a lot of code explained in the [simulation tutorial](2_sim_and_activation.ipynb) and the [resampling potentials tutorial](4_resampling_potentials.ipynb), so it is recommended to review them before proceeding.\n",
    "```"
   ]
  },
  {
   "cell_type": "markdown",
   "metadata": {},
   "source": [
    "## Creating 3D fiber path and potentials\n",
    "Normally, you might use 3D fiber coordinates alongside potentials that you obtained from an external source (e.g., COMSOL, ANSYS, etc.). For the purpose of this tutorial, we will create a fiber path using a 3D spiral and create potentials using a Gaussian curve. By default, the start of the fiber will be placed at the first coordinate along the path and extend until no more sections can be added. Later in this tutorial, we demonstrate how to shift the fiber to a specific location (typically to achieve some positioning of nodes of Ranvier for myelinated fibers)."
   ]
  },
  {
   "cell_type": "code",
   "execution_count": null,
   "metadata": {},
   "outputs": [],
   "source": [
    "# Creating the spiral path for the fiber\n",
    "import numpy as np\n",
    "import matplotlib.pyplot as plt\n",
    "\n",
    "# Define parameters for the spiral\n",
    "height = 1000  # total height of the spiral\n",
    "turns = 5  # number of turns in the spiral\n",
    "radius = 1000  # radius of the spiral\n",
    "points_per_turn = 20  # points per turn\n",
    "\n",
    "# Generate the spiral coordinates\n",
    "t = np.linspace(0, 2 * np.pi * turns, points_per_turn * turns)\n",
    "x = radius * np.cos(t)\n",
    "y = radius * np.sin(t)\n",
    "z = np.linspace(0, height, points_per_turn * turns)\n",
    "\n",
    "# Combine into a single array for path coordinates\n",
    "path_coordinates = np.column_stack((x, y, z))\n",
    "\n",
    "# Calculate the length along the fiber\n",
    "fiber_length = np.sqrt(np.sum(np.diff(path_coordinates, axis=0) ** 2, axis=1)).sum()\n",
    "\n",
    "# Generate the Gaussian curve of potentials\n",
    "# Set the mean at the center of the fiber and standard deviation as a fraction of the fiber length\n",
    "mean = fiber_length / 2\n",
    "std_dev = fiber_length / 50  # Smaller value gives a narrower peak\n",
    "\n",
    "# Create an array representing the linear distance along the fiber\n",
    "linear_distance = np.linspace(0, fiber_length, len(path_coordinates))\n",
    "\n",
    "# Generate Gaussian distributed potentials\n",
    "potentials = np.exp(-((linear_distance - mean) ** 2 / (2 * std_dev**2)))\n",
    "\n",
    "# Normalize potentials for better visualization or use\n",
    "potentials /= np.max(potentials)\n",
    "\n",
    "# Scale to a maximum of 500 mV\n",
    "potentials *= 500\n",
    "\n",
    "# Create subplots for both the 3D path and potentials\n",
    "fig, (ax1, ax2) = plt.subplots(1, 2, figsize=(12, 5))\n",
    "\n",
    "# Plot the generated path to visualize it\n",
    "ax1 = fig.add_subplot(121, projection='3d')\n",
    "ax1.plot(x, y, z)\n",
    "ax1.set_title(\"3D Spiral Path for Fiber\")\n",
    "ax1.set_xlabel(\"X axis\")\n",
    "ax1.set_ylabel(\"Y axis\")\n",
    "ax1.set_zlabel(\"Z axis\")\n",
    "\n",
    "# Plot the Gaussian distribution of potentials along the fiber\n",
    "ax2.plot(linear_distance, potentials, label='Gaussian Potentials')\n",
    "ax2.set_xlabel('Distance along fiber (µm)')\n",
    "ax2.set_ylabel('Potential (mV)')\n",
    "ax2.set_title('Gaussian Distribution of Potentials along fiber path')\n",
    "ax2.legend()\n",
    "\n",
    "plt.tight_layout()\n",
    "plt.show()"
   ]
  },
  {
   "cell_type": "markdown",
   "metadata": {},
   "source": [
    "## Resampling 3D potentials\n",
    "For this tutorial, we will create a fiber model using the MRG model using the same process as the [fiber creation tutorial](1_create_fiber.ipynb). Instead of specifying the length or number of sections, we provide the coordinates of the 3D fiber path. Since we want a 3D fiber, we must use the function {py:func}`~pyfibers.fiber.build_fiber_3d()` instead."
   ]
  },
  {
   "cell_type": "code",
   "execution_count": null,
   "metadata": {},
   "outputs": [],
   "source": [
    "from pyfibers import FiberModel, build_fiber_3d\n",
    "\n",
    "fiber = build_fiber_3d(\n",
    "    FiberModel.MRG_INTERPOLATION, diameter=10, path_coordinates=path_coordinates\n",
    ")\n",
    "print(fiber)\n",
    "print('Fiber is 3D?', fiber.is_3d())"
   ]
  },
  {
   "cell_type": "markdown",
   "metadata": {},
   "source": [
    "We can either:\n",
    "- use the {py:meth}`~pyfibers.fiber.Fiber.resample_potentials_3d()` method of the fiber object to get the potentials at the center of each fiber section. (not recommended)\n",
    "- or calculate arc lengths and use {py:meth}`~pyfibers.fiber.Fiber.resample_potentials()` to get the potentials. (recommended)"
   ]
  },
  {
   "cell_type": "code",
   "execution_count": null,
   "metadata": {},
   "outputs": [],
   "source": [
    "# Using the resample_potentials_3d() method to resample the potentials along the fiber path\n",
    "fiber.resample_potentials_3d(\n",
    "    potentials=potentials, potential_coords=path_coordinates, center=True, inplace=True\n",
    ")\n",
    "\n",
    "plt.figure()\n",
    "plt.plot(\n",
    "    fiber.longitudinal_coordinates,\n",
    "    fiber.potentials,\n",
    "    marker='o',\n",
    "    label='resample_potentials_3d()',\n",
    ")\n",
    "plt.xlabel('Distance along fiber (µm)')\n",
    "plt.ylabel('Potential (mV)')\n",
    "plt.title('Resampled Potentials along Fiber')\n",
    "\n",
    "# Calculating arc lengths and using resample_potentials()\n",
    "arc_lengths = np.concatenate(\n",
    "    ([0], np.cumsum(np.sqrt(np.sum(np.diff(path_coordinates, axis=0) ** 2, axis=1))))\n",
    ")\n",
    "fiber.resample_potentials(\n",
    "    potentials=potentials, potential_coords=arc_lengths, center=True, inplace=True\n",
    ")\n",
    "plt.plot(\n",
    "    fiber.longitudinal_coordinates,\n",
    "    fiber.potentials,\n",
    "    marker='x',\n",
    "    label='resample_potentials()',\n",
    "    alpha=0.6,\n",
    "    color='k',\n",
    ")"
   ]
  },
  {
   "cell_type": "markdown",
   "metadata": {},
   "source": [
    "## Simulation\n",
    "We will use the same simulation setup as before."
   ]
  },
  {
   "cell_type": "code",
   "execution_count": null,
   "metadata": {
    "pycharm": {
     "is_executing": true
    }
   },
   "outputs": [],
   "source": [
    "import numpy as np\n",
    "from pyfibers import ScaledStim\n",
    "from scipy.interpolate import interp1d\n",
    "\n",
    "# Setup for simulation\n",
    "time_step = 0.001  # milliseconds\n",
    "time_stop = 15  # milliseconds\n",
    "start, on, off = 0, 0.1, 0.2\n",
    "waveform = interp1d(\n",
    "    [start, on, off, time_stop], [1, -1, 0, 0], kind=\"previous\"\n",
    ")  # biphasic rectangular pulse\n",
    "\n",
    "# Create stimulation object\n",
    "stimulation = ScaledStim(waveform=waveform, dt=time_step, tstop=time_stop)"
   ]
  },
  {
   "cell_type": "markdown",
   "metadata": {},
   "source": [
    "and then run a fixed amplitude simulation:"
   ]
  },
  {
   "cell_type": "code",
   "execution_count": null,
   "metadata": {},
   "outputs": [],
   "source": [
    "ap, time = stimulation.run_sim(-1.5, fiber)\n",
    "print(f'Number of action potentials detected: {ap}')\n",
    "print(f'Time of last action potential detection: {time} ms')"
   ]
  },
  {
   "cell_type": "markdown",
   "metadata": {},
   "source": [
    "## Creating potentials from a point source\n",
    "In the previous example, we created potentials using a Gaussian curve. In this example, we will create potentials using a point source. We will use the same fiber path as before, but we will calculate the potentials from a point source near the 3D fiber path."
   ]
  },
  {
   "cell_type": "code",
   "execution_count": null,
   "metadata": {},
   "outputs": [],
   "source": [
    "# Calculate point source potentials at all fiber coordinates\n",
    "x, y, z = 800, 800, 500  # Point source location\n",
    "i0 = 1  # Current of the point source\n",
    "sigma = 1  # Isotropic conductivity\n",
    "fiber_potentials = fiber.point_source_potentials(x, y, z, i0, sigma, inplace=True)\n",
    "\n",
    "# Create subplots for both the potentials and 3D visualization\n",
    "fig = plt.figure(figsize=(15, 6))\n",
    "\n",
    "# Plot potentials\n",
    "ax1 = plt.subplot(121)\n",
    "ax1.plot(fiber.longitudinal_coordinates, fiber.potentials, marker='o', markersize=4)\n",
    "ax1.set_xlabel('Distance along fiber (µm)')\n",
    "ax1.set_ylabel('Potential (mV)')\n",
    "ax1.set_title('Fiber potentials from point source')\n",
    "ax1.grid(True, alpha=0.3)\n",
    "\n",
    "# Plot the fiber with the point source\n",
    "ax2 = plt.subplot(122, projection='3d')\n",
    "ax2.plot(x, y, z, 'ro', label='Point Source', markersize=8)\n",
    "ax2.plot(\n",
    "    fiber.coordinates[:, 0],\n",
    "    fiber.coordinates[:, 1],\n",
    "    fiber.coordinates[:, 2],\n",
    "    label='Fiber Path',\n",
    "    linewidth=2,\n",
    ")\n",
    "ax2.set_title('Fiber Path with Point Source')\n",
    "ax2.set_xlabel('X axis')\n",
    "ax2.set_ylabel('Y axis')\n",
    "ax2.set_zlabel('Z axis')\n",
    "ax2.legend()\n",
    "\n",
    "plt.tight_layout()\n",
    "plt.show()"
   ]
  },
  {
   "cell_type": "markdown",
   "metadata": {},
   "source": [
    "The potentials have several peaks, which would be expected from the location where we placed the point source."
   ]
  },
  {
   "cell_type": "markdown",
   "metadata": {},
   "source": [
    "## Creating fibers with a shift along the 3D path\n",
    "The prior examples created fibers with the start of the fiber at the beginning of the path. Users may wish to specify a shift along this 3D path to achieve a specific positioning of nodes of Ranvier for myelinated fibers. We can achieve this by specifying the shift along the 3D path using the `shift` parameter in the {py:func}`~pyfibers.fiber.build_fiber_3d()` function. For this example, we will use a path in 2D space to make it easier to visualize the shift.\n",
    "\n",
    "We can see that the fiber has been created starting at the beginning of the path. We might want to center the fiber along the path. We can do this by setting `center=True`.\n",
    "\n",
    "Note how for one shift example (centered + shifting by half internodal length) it was only possible to fit 14 nodes (vs. 15 in every other plot). By default, fibers will not be created with even node counts, and so an additional node was removed to bring the count to 13."
   ]
  },
  {
   "cell_type": "code",
   "execution_count": null,
   "metadata": {},
   "outputs": [],
   "source": [
    "# Generate a right angle for fiber path\n",
    "x = [0, 10000, 10000]\n",
    "y = [0, 0, 10000]\n",
    "z = [0, 0, 0]\n",
    "path_coordinates = np.array([x, y, z]).T\n",
    "\n",
    "model = FiberModel.MRG_INTERPOLATION\n",
    "\n",
    "\n",
    "def fiber_plot(ax, fiber, title):\n",
    "    \"\"\"Plot the fiber path and coordinates on the given axis.\"\"\"  # noqa: DAR101\n",
    "    # Plot fiber path\n",
    "    ax.plot(x, y, lw=10, color='gray', alpha=0.3, label='fiber path')\n",
    "    # Plot fiber coordinates\n",
    "    ax.plot(\n",
    "        fiber.coordinates[:, 0],\n",
    "        fiber.coordinates[:, 1],\n",
    "        marker='o',\n",
    "        markersize=3,\n",
    "        lw=0,\n",
    "        label='fiber coordinates',\n",
    "        color='black',\n",
    "    )\n",
    "    ax.plot(\n",
    "        fiber.coordinates[:, 0][::11],\n",
    "        fiber.coordinates[:, 1][::11],\n",
    "        marker='o',\n",
    "        markersize=3,\n",
    "        lw=0,\n",
    "        c='r',\n",
    "        label='nodes',\n",
    "    )\n",
    "    ax.set_title(title)\n",
    "    ax.set_aspect('equal')\n",
    "    ax.legend()\n",
    "\n",
    "\n",
    "# Define fiber configurations as a list of parameter dictionaries\n",
    "fiber_configs = [\n",
    "    {'title': 'No shift', 'center': False, 'shift': None, 'shift_ratio': None},\n",
    "    {'title': 'Shifted by 200 µm', 'center': False, 'shift': 200, 'shift_ratio': None},\n",
    "    {\n",
    "        'title': 'Shifted by half internodal length',\n",
    "        'center': False,\n",
    "        'shift': None,\n",
    "        'shift_ratio': 0.5,\n",
    "    },\n",
    "    {'title': 'Centered', 'center': True, 'shift': None, 'shift_ratio': None},\n",
    "    {\n",
    "        'title': 'Centered + shifted by 200 µm',\n",
    "        'center': True,\n",
    "        'shift': 200,\n",
    "        'shift_ratio': None,\n",
    "    },\n",
    "    {\n",
    "        'title': 'Centered + shifted by half internodal length',\n",
    "        'center': True,\n",
    "        'shift': None,\n",
    "        'shift_ratio': 0.5,\n",
    "    },\n",
    "]\n",
    "\n",
    "# Create fibers with different shift configurations\n",
    "fibers = {}\n",
    "titles = {}\n",
    "\n",
    "for config in fiber_configs:\n",
    "    # Build fiber with the specified parameters\n",
    "    fiber_params = {\n",
    "        'diameter': 13,\n",
    "        'fiber_model': model,\n",
    "        'temperature': 37,\n",
    "        'path_coordinates': path_coordinates,\n",
    "        'passive_end_nodes': 2,\n",
    "    }\n",
    "\n",
    "    # Add optional parameters if specified\n",
    "    if config['center']:\n",
    "        fiber_params['center'] = True\n",
    "    if config['shift'] is not None:\n",
    "        fiber_params['shift'] = config['shift']\n",
    "    if config['shift_ratio'] is not None:\n",
    "        fiber_params['shift_ratio'] = config['shift_ratio']\n",
    "\n",
    "    # Create fiber\n",
    "    fiber = build_fiber_3d(**fiber_params)\n",
    "\n",
    "    # Store fiber and title\n",
    "    key = config['title'].lower().replace(' ', '_').replace('+', '').replace('µm', 'um')\n",
    "    fibers[key] = fiber\n",
    "    titles[key] = config['title']\n",
    "\n",
    "# Create subplots for all fiber configurations\n",
    "fig, axes = plt.subplots(2, 3, figsize=(12, 8), sharex=True, sharey=True)\n",
    "axes = axes.flatten()\n",
    "\n",
    "for i, (key, fiber) in enumerate(fibers.items()):\n",
    "    fiber_plot(axes[i], fiber, titles[key])\n",
    "\n",
    "plt.tight_layout()\n",
    "plt.show()"
   ]
  },
  {
   "cell_type": "markdown",
   "metadata": {},
   "source": [
    "We might want to specify a `shift` amount along the path. We can do this by setting `shift` to a value in micrometers, or `shift_ratio` to a float that represents a proportion of the fiber's internodal length. Note that distances greater than one internodal length will only be shifted by the remainder (e.g., for a 16 µm diameter fiber with an internodal length of 1600 µm, a `shift` of 2100 µm will be equivalent to a `shift` of 500 µm, and a `shift_ratio` of 1.5 is equivalent to a `shift_ratio` of 0.5)."
   ]
  }
 ],
 "metadata": {
  "kernelspec": {
   "display_name": "pyfibers",
   "language": "python",
   "name": "python3"
  },
  "language_info": {
   "codemirror_mode": {
    "name": "ipython",
    "version": 3
   },
   "file_extension": ".py",
   "mimetype": "text/x-python",
   "name": "python",
   "nbconvert_exporter": "python",
   "pygments_lexer": "ipython3",
   "version": "3.12.4"
  }
 },
 "nbformat": 4,
 "nbformat_minor": 4
}
