{
 "cells": [
  {
   "cell_type": "markdown",
   "metadata": {},
   "source": [
    "# Stimulation from multiple sources\n",
    "This tutorial will use the simulation results from the [simulation tutorial](2_sim_and_activation.ipynb). We will recap that example, and then move on to the case where we have multiple sources. A helpful reference may also be the [extracellular potentials documentation](../extracellular_potentials.md)."
   ]
  },
  {
   "cell_type": "markdown",
   "metadata": {},
   "source": [
    "## Create the fiber and set up simulation\n",
    "As before, we create a fiber using {py:func}`~pyfibers.fiber.build_fiber`, a stimulation waveform, extracellular potentials, and a stimulation object (an instance of {py:class}`~pyfibers.stimulation.ScaledStim`)."
   ]
  },
  {
   "cell_type": "code",
   "execution_count": null,
   "metadata": {},
   "outputs": [],
   "source": [
    "import numpy as np\n",
    "from pyfibers import build_fiber, FiberModel, ScaledStim\n",
    "from scipy.interpolate import interp1d\n",
    "\n",
    "# create fiber model\n",
    "n_sections = 265\n",
    "fiber = build_fiber(FiberModel.MRG_INTERPOLATION, diameter=10, n_sections=n_sections)\n",
    "print(fiber)\n",
    "\n",
    "# Setup for simulation. Add zeros at the beginning so we get some baseline for visualization\n",
    "time_step = 0.001\n",
    "time_stop = 20\n",
    "start, on, off = 0, 0.1, 0.2  # milliseconds\n",
    "waveform = interp1d([start, on, off, time_stop], [0, 1, 0, 0], kind=\"previous\")  # monophasic rectangular pulse\n",
    "\n",
    "fiber.potentials = fiber.point_source_potentials(0, 250, fiber.length / 2, 1, 10)\n",
    "\n",
    "# Create stimulation object\n",
    "stimulation = ScaledStim(waveform=waveform, dt=time_step, tstop=time_stop)"
   ]
  },
  {
   "cell_type": "markdown",
   "metadata": {},
   "source": [
    "We can then calculate the fiber's response to stimulation with a certain stimulation amplitude using {py:meth}`~pyfibers.stimulation.ScaledStim.run_sim`."
   ]
  },
  {
   "cell_type": "code",
   "execution_count": null,
   "metadata": {},
   "outputs": [],
   "source": [
    "stimamp = -1.5  # mA\n",
    "ap, time = stimulation.run_sim(stimamp, fiber)\n",
    "print(f'Number of action potentials detected: {ap}')\n",
    "print(f'Time of last action potential detection: {time} ms')"
   ]
  },
  {
   "cell_type": "markdown",
   "metadata": {},
   "source": [
    "In many cases, it is desirable to model stimulation of a fiber from multiple sources. There are several ways this can be done:\n",
    "  1. If each source delivers the same waveform, we can simply sum the potentials from each source (using the principle of superposition). In this case, you can weight the potentials if different stimuli deliver different polarities or scaling factors.\n",
    "  2. If each source delivers a different waveform, you must calculate the potentials from each source at runtime. In this case, the fiber must be supplied with multiple potential sets (one for each source), and the {py:class}`~pyfibers.stimulation.ScaledStim` instance must be provided with multiple waveforms. You can also use this approach even when each source delivers the same waveform. Under this method, you may either provide a single stimulation amplitude (which is then applied to all sources) or a list of amplitudes (one for each source). Note that for threshold searches, only a single stimulation amplitude is supported."
   ]
  },
  {
   "cell_type": "markdown",
   "metadata": {},
   "source": [
    "### Superposition of potentials\n",
    "In this example, we will consider the case where we have two sources, each delivering the same waveform. We will calculate the potentials from each source using {py:meth}`~pyfibers.fiber.Fiber.point_source_potentials`, and sum them to obtain the total potential at each node. This is an example of bipolar stimulation, where one source acts as the anode and the other as the cathode."
   ]
  },
  {
   "cell_type": "code",
   "execution_count": null,
   "metadata": {},
   "outputs": [],
   "source": [
    "fiber.potentials *= 0  # reset potentials\n",
    "for position, polarity in zip([0.45 * fiber.length, 0.55 * fiber.length], [1, -1]):\n",
    "    # add the contribution of one source to the potentials\n",
    "    fiber.potentials += polarity * fiber.point_source_potentials(0, 250, position, 1, 10)\n",
    "\n",
    "# plot the potentials\n",
    "import matplotlib.pyplot as plt\n",
    "\n",
    "plt.figure()\n",
    "plt.plot(fiber.longitudinal_coordinates, fiber.potentials[0])\n",
    "plt.xlabel('Position (μm)')\n",
    "plt.ylabel('Potential (mV)')\n",
    "plt.show()"
   ]
  },
  {
   "cell_type": "code",
   "execution_count": null,
   "metadata": {},
   "outputs": [],
   "source": [
    "# run simulation\n",
    "ap, time = stimulation.run_sim(stimamp, fiber)\n",
    "print(f'Number of action potentials detected: {ap}')\n",
    "print(f'Time of last action potential detection: {time} ms')"
   ]
  },
  {
   "cell_type": "markdown",
   "metadata": {},
   "source": [
    "### Sources with different waveforms\n",
    "In this example, we consider the case where we have two sources, each delivering a different waveform. In this scenario, you must supply the fiber with multiple potential sets (one for each source) and the {py:class}`~pyfibers.stimulation.ScaledStim` instance with multiple waveforms. "
   ]
  },
  {
   "cell_type": "code",
   "execution_count": null,
   "metadata": {},
   "outputs": [],
   "source": [
    "potentials = []\n",
    "# Create potentials from each source\n",
    "for position in [0.45 * fiber.length, 0.55 * fiber.length]:\n",
    "    potentials.append(fiber.point_source_potentials(0, 250, position, 1, 1))\n",
    "fiber.potentials = np.vstack(potentials)\n",
    "print(fiber.potentials.shape)\n",
    "\n",
    "plt.figure()\n",
    "plt.plot(fiber.potentials[0, :], label='source 1')\n",
    "plt.plot(fiber.potentials[1, :], label='source 2')\n",
    "plt.legend()"
   ]
  },
  {
   "cell_type": "code",
   "execution_count": null,
   "metadata": {},
   "outputs": [],
   "source": [
    "# Create waveforms and stack them\n",
    "waveform1 = interp1d([0, 0.05, time_stop], [-1, 0, 0], kind=\"previous\")  # monophasic rectangular pulse (cathodic)\n",
    "waveform2 = interp1d([0, 0.2, time_stop], [1, 0, 0], kind=\"previous\")  # monophasic rectangular pulse (longer duration)\n",
    "\n",
    "# Create instance of :py:class:`~pyfibers.stimulation.ScaledStim`\n",
    "stimulation = ScaledStim(waveform=[waveform1, waveform2], dt=time_step, tstop=time_stop)\n",
    "\n",
    "# Turn on saving of gating parameters and Vm before running simulations for thresholds\n",
    "fiber.record_gating()\n",
    "fiber.record_vm()\n",
    "\n",
    "# Run simulation with the same amplitude for all waveforms\n",
    "ap, time = stimulation.run_sim(-1.5, fiber)\n",
    "print(f'Number of action potentials detected: {ap}')\n",
    "print(f'Time of last action potential detection: {time} ms')\n",
    "\n",
    "# Now, run a simulation with different amplitudes for each waveform\n",
    "ap, time = stimulation.run_sim([-1.5, 1], fiber)\n",
    "print(f'Number of action potentials detected: {ap}')\n",
    "print(f'Time of last action potential detection: {time} ms')\n",
    "\n",
    "# Finally, run a threshold search (note: only a single stimulation amplitude is supported for threshold searches)\n",
    "amp, ap = stimulation.find_threshold(fiber, stimamp_top=-3)"
   ]
  },
  {
   "cell_type": "code",
   "execution_count": null,
   "metadata": {},
   "outputs": [],
   "source": [
    "import pandas as pd\n",
    "import seaborn as sns\n",
    "\n",
    "# Plot waveforms\n",
    "plt.figure()\n",
    "plt.plot(np.array(stimulation.time), amp * waveform1(np.array(stimulation.time)), label='Waveform 1')\n",
    "plt.plot(np.array(stimulation.time), amp * waveform2(np.array(stimulation.time)), label='Waveform 2')\n",
    "plt.ylabel('Amplitude (mA)')\n",
    "plt.xlabel('Time (ms)')\n",
    "plt.legend()\n",
    "plt.xlim([0, 1])\n",
    "\n",
    "# Plot heatmap of membrane voltage (Vm)\n",
    "data = pd.DataFrame(np.array(fiber.vm[1:-1]))\n",
    "vrest = fiber[0].e_pas\n",
    "print('Membrane rest voltage:', vrest)\n",
    "plt.figure()\n",
    "g = sns.heatmap(\n",
    "    data,\n",
    "    cbar_kws={'label': '$V_m$ $(mV)$'},\n",
    "    cmap='seismic',\n",
    "    vmax=np.amax(data.values) + vrest,\n",
    "    vmin=-np.amax(data.values) + vrest,\n",
    ")\n",
    "plt.ylabel('Node index')\n",
    "plt.xlabel('Time (ms)')\n",
    "tick_locs = np.linspace(0, len(np.array(stimulation.time)[:1000]), 9)\n",
    "labels = [round(np.array(stimulation.time)[int(ind)], 2) for ind in tick_locs]\n",
    "g.set_xticks(ticks=tick_locs, labels=labels)\n",
    "plt.title('Membrane voltage over time\\nRed=depolarized, Blue=hyperpolarized')\n",
    "plt.xlim([0, 1000])\n",
    "# label source locations\n",
    "for loc, ls, label in zip([0.45, 0.55], [':', '--'], ['source 1', 'source 2']):\n",
    "    location = loc * (len(fiber)) - 1\n",
    "    plt.axhline(location, color='black', linestyle=ls, label=label)\n",
    "plt.legend()\n",
    "plt.gcf().set_size_inches(8.15, 4)"
   ]
  }
 ],
 "metadata": {
  "kernelspec": {
   "display_name": "pyfibers",
   "language": "python",
   "name": "python3"
  },
  "language_info": {
   "codemirror_mode": {
    "name": "ipython",
    "version": 3
   },
   "file_extension": ".py",
   "mimetype": "text/x-python",
   "name": "python",
   "nbconvert_exporter": "python",
   "pygments_lexer": "ipython3",
   "version": "3.12.4"
  }
 },
 "nbformat": 4,
 "nbformat_minor": 4
}
