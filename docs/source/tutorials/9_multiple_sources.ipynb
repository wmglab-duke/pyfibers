{
 "cells": [
  {
   "cell_type": "markdown",
   "metadata": {},
   "source": [
    "# Stimulation from multiple sources\n",
    "This tutorial will use the simulation results from the [finite amplitudes stimulation](1_finite_amp.ipynb). We will recap that example, and then move on to the case where we have multiple sources."
   ]
  },
  {
   "cell_type": "markdown",
   "metadata": {},
   "source": [
    "## Create the fiber and set up simulation\n",
    "As before, we create fiber, waveform, potentials and stimulation object."
   ]
  },
  {
   "cell_type": "code",
   "execution_count": null,
   "metadata": {},
   "outputs": [],
   "source": [
    "import numpy as np\n",
    "from pyfibers import build_fiber, FiberModel, ScaledStim\n",
    "\n",
    "# create fiber model\n",
    "n_sections = 265\n",
    "fiber = build_fiber(FiberModel.MRG_INTERPOLATION, diameter=10, n_sections=n_sections)\n",
    "print(fiber)\n",
    "\n",
    "# Setup for simulation. Add zeros at the beginning so we get some baseline for visualization\n",
    "waveform = np.concatenate((np.zeros(100), np.ones(100), np.zeros(48000)))  # monophasic rectangular pulse\n",
    "\n",
    "fiber.potentials = fiber.point_source_potentials(0, 250, fiber.length / 2, 1, 10)\n",
    "\n",
    "time_step = 0.001\n",
    "time_stop = 20\n",
    "\n",
    "# Create stimulation object\n",
    "stimulation = ScaledStim(waveform=waveform, dt=time_step, tstop=time_stop)"
   ]
  },
  {
   "cell_type": "markdown",
   "metadata": {},
   "source": [
    "We can then calculate the fiber's response to stimulation with a certain stimulation amplitude."
   ]
  },
  {
   "cell_type": "code",
   "execution_count": null,
   "metadata": {},
   "outputs": [],
   "source": [
    "stimamp = -1.5  # mA\n",
    "ap, time = stimulation.run_sim(stimamp, fiber)\n",
    "print(f'Number of action potentials detected: {ap}')\n",
    "print(f'Time of last action potential detection: {time} ms')"
   ]
  },
  {
   "cell_type": "markdown",
   "metadata": {},
   "source": [
    "## Stimulation from multiple sources\n",
    "In many cases, it is desirable to model stimulation of a fiber from multiple sources. There are several ways this can be done:\n",
    "    1. If each source delivers the same waveform, we can simply sum the potentials from each source (using superposition), and proceed as before. If different stimuli deliver different polarities or scaled versions of the same waveform, we can weight the potentials.\n",
    "    2. If each source delivers a different waveform, we must calculate the potentials from each source at runtime. Thus, we must provide the fiber with multiple potentials sets, one for each source. We must also provide the ScaledStim instance with multiple waveforms, again one for each source. You can also use this approach, if desired, for the case where each source delivers the same waveform. Under this method, you may either provide a single stimulation amplitude, which is then applied to all sources, or you may provide a list of amplitudes, one for each source. Note that for threshold searches, only a single stimulation amplitude is supported for threshold searching."
   ]
  },
  {
   "cell_type": "markdown",
   "metadata": {},
   "source": [
    "### Superposition of potentials\n",
    "In this example, we will consider the case where we have two sources, each delivering the same waveform. We will calculate the potentials from each source, and sum them to get the total potential at each node. We will use bipolar stimulation, where one source is anode and the other is cathode."
   ]
  },
  {
   "cell_type": "code",
   "execution_count": null,
   "metadata": {},
   "outputs": [],
   "source": [
    "fiber.potentials *= 0  # reset potentials\n",
    "for position, polarity in zip([0.45 * fiber.length, 0.55 * fiber.length], [1, -1]):\n",
    "    # add the contribution of one source to the potentials\n",
    "    fiber.potentials += polarity * fiber.point_source_potentials(0, 250, position, 1, 10)\n",
    "\n",
    "# plot the potentials\n",
    "import matplotlib.pyplot as plt\n",
    "\n",
    "plt.figure()\n",
    "plt.plot(fiber.longitudinal_coordinates, fiber.potentials[0])\n",
    "plt.xlabel('Position (μm)')\n",
    "plt.ylabel('Potential (mV)')\n",
    "plt.show()"
   ]
  },
  {
   "cell_type": "code",
   "execution_count": null,
   "metadata": {},
   "outputs": [],
   "source": [
    "# run simulation\n",
    "ap, time = stimulation.run_sim(stimamp, fiber)\n",
    "print(f'Number of action potentials detected: {ap}')\n",
    "print(f'Time of last action potential detection: {time} ms')"
   ]
  },
  {
   "cell_type": "markdown",
   "metadata": {},
   "source": [
    "# Sources with different waveforms\n",
    "In this example, we will consider the case where we have two sources, each delivering a different waveform. We must provide the fiber with multiple potentials sets, one for each source. We must also provide the ScaledStim instance with multiple waveforms, one for each source. "
   ]
  },
  {
   "cell_type": "code",
   "execution_count": null,
   "metadata": {},
   "outputs": [],
   "source": [
    "potentials = []\n",
    "# create curve of potentials\n",
    "for position in [0.45 * fiber.length, 0.55 * fiber.length]:\n",
    "    potentials.append(fiber.point_source_potentials(0, 250, position, 1, 1))\n",
    "fiber.potentials = np.vstack(potentials)\n",
    "print(fiber.potentials.shape)\n",
    "\n",
    "plt.figure()\n",
    "plt.plot(fiber.potentials[0, :], label='source 1')\n",
    "plt.plot(fiber.potentials[1, :], label='source 2')\n",
    "plt.legend()"
   ]
  },
  {
   "cell_type": "code",
   "execution_count": null,
   "metadata": {},
   "outputs": [],
   "source": [
    "# create waveforms and stack them\n",
    "waveform1 = np.concatenate((-np.ones(50), np.zeros(49750)))  # monophasic rectangular pulse (cathodic)\n",
    "waveform2 = np.concatenate((np.ones(200), np.zeros(49600)))  # monophasic rectangular pulse (longer duration)\n",
    "waveform = np.vstack((waveform1, waveform2))\n",
    "\n",
    "# Create instance of ScaledStim class\n",
    "stimulation = ScaledStim(waveform=waveform, dt=time_step, tstop=time_stop)\n",
    "\n",
    "# turn on saving gating parameters and Vm before running the simulations for thresholds\n",
    "fiber.set_save_gating()\n",
    "fiber.set_save_vm()\n",
    "\n",
    "# run simulation with the same amplitude for all waveforms\n",
    "ap, time = stimulation.run_sim(-1.5, fiber)\n",
    "print(f'Number of action potentials detected: {ap}')\n",
    "print(f'Time of last action potential detection: {time} ms')\n",
    "\n",
    "# Now, run a simulation with different amplitudes for each waveform\n",
    "ap, time = stimulation.run_sim([-1.5, 1], fiber)\n",
    "print(f'Number of action potentials detected: {ap}')\n",
    "print(f'Time of last action potential detection: {time} ms')\n",
    "\n",
    "# Finally, run a threshold search (can only search for a single stimulation amplitude across all waveforms)\n",
    "amp, ap = stimulation.find_threshold(fiber)"
   ]
  },
  {
   "cell_type": "code",
   "execution_count": null,
   "metadata": {},
   "outputs": [],
   "source": [
    "import pandas as pd\n",
    "import seaborn as sns\n",
    "\n",
    "# plot waveforms\n",
    "plt.figure()\n",
    "plt.plot(\n",
    "    np.array(stimulation.time)[:-1], amp * stimulation.waveform[0, :], label='Waveform 1'\n",
    ")  # TODO: why is waveform shorter than stimulation.time\n",
    "plt.plot(np.array(stimulation.time)[:-1], amp * stimulation.waveform[1, :], label='Waveform 2')\n",
    "plt.ylabel('Amplitude (mA)')\n",
    "plt.xlabel('Time (ms)')\n",
    "plt.legend()\n",
    "plt.xlim([0, 1])\n",
    "\n",
    "# plot heatmap\n",
    "data = pd.DataFrame(np.array(fiber.vm[1:-1]))\n",
    "vrest = fiber[0].e_pas\n",
    "print('Membrane rest voltage:', vrest)\n",
    "plt.figure()\n",
    "g = sns.heatmap(\n",
    "    data,\n",
    "    cbar_kws={'label': '$V_m$ $(mV)$'},\n",
    "    cmap='seismic',\n",
    "    vmax=np.amax(data.values) + vrest,\n",
    "    vmin=-np.amax(data.values) + vrest,\n",
    ")\n",
    "plt.ylabel('Node index')\n",
    "plt.xlabel('Time (ms)')\n",
    "tick_locs = np.linspace(0, len(np.array(stimulation.time)[:1000]), 9)\n",
    "labels = [round(np.array(stimulation.time)[int(ind)], 2) for ind in tick_locs]\n",
    "g.set_xticks(ticks=tick_locs, labels=labels)\n",
    "plt.title(\n",
    "    'Membrane voltage over time\\\n",
    "          \\nRed=depolarized, Blue=hyperpolarized'\n",
    ")\n",
    "plt.xlim([0, 1000])\n",
    "# label source locations\n",
    "for loc, ls, label in zip([0.45, 0.55], [':', '--'], ['source 1', 'source 2']):\n",
    "    location = loc * (len(fiber)) - 1\n",
    "    plt.axhline(location, color='black', linestyle=ls, label=label)\n",
    "plt.legend()\n",
    "plt.gcf().set_size_inches(8.15, 4)"
   ]
  }
 ],
 "metadata": {
  "kernelspec": {
   "display_name": "Python 3 (ipykernel)",
   "language": "python",
   "name": "python3"
  },
  "language_info": {
   "codemirror_mode": {
    "name": "ipython",
    "version": 3
   },
   "file_extension": ".py",
   "mimetype": "text/x-python",
   "name": "python",
   "nbconvert_exporter": "python",
   "pygments_lexer": "ipython3",
   "version": "3.11.9"
  }
 },
 "nbformat": 4,
 "nbformat_minor": 4
}
