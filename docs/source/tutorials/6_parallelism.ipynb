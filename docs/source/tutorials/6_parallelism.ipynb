{
 "cells": [
  {
   "cell_type": "markdown",
   "metadata": {
    "pycharm": {
     "name": "#%% md\n"
    }
   },
   "source": [
    "# Running Multiple Simulations in Parallel\n",
    "This tutorial will go over the basics of running multiple fiber simulations in parallel. We are often curious about\n",
    "not just a single fiber but an array of fibers with various model types, geometric parameters, and/or electrical parameters. Or, we might want to run the same fiber through multiple simulations.\n",
    "We can leverage parallelism to run multiple simulations simultaneously, each on a separate processor core."
   ]
  },
  {
   "cell_type": "markdown",
   "metadata": {
    "pycharm": {
     "name": "#%% md\n"
    }
   },
   "source": [
    "## Create a function to parallelize\n",
    "First, let's create a function that we can call in parallel. The function should create a {py:class}`~pyfibers.fiber.Fiber` instance and solve for its activation threshold. We will use the fiber model and stimulation parameters from the [simulation tutorial](2_sim_and_activation.ipynb). Instead of a single fiber diameter, we will create a function which takes a fiber diameter as an argument, then returns the activation threshold of the fiber."
   ]
  },
  {
   "cell_type": "code",
   "execution_count": null,
   "metadata": {
    "pycharm": {
     "name": "#%%\n"
    }
   },
   "outputs": [],
   "source": [
    "def create_and_run_sim(diam=5.7, temp=37):\n",
    "    \"\"\"Create a fiber and determine activate threshold.\n",
    "\n",
    "    :param diam: diameter of fiber (um).\n",
    "    :param temp: fiber temperature (C)\n",
    "    :return: returns activation threshold (mA)\n",
    "    \"\"\"\n",
    "    from pyfibers import build_fiber, FiberModel, ScaledStim\n",
    "    from scipy.interpolate import interp1d\n",
    "\n",
    "    # Create fiber object\n",
    "    fiber = build_fiber(FiberModel.MRG_INTERPOLATION, diameter=diam, n_sections=265, temperature=temp)\n",
    "\n",
    "    fiber.potentials = fiber.point_source_potentials(0, 250, fiber.length / 2, 1, 10)\n",
    "\n",
    "    # Setup for simulation\n",
    "    time_step = 0.001\n",
    "    time_stop = 20\n",
    "    waveform = interp1d([0, 0.2, 0.4, time_stop], [1, -1, 0, 0], kind=\"previous\")\n",
    "\n",
    "    # Create stimulation object\n",
    "    stimulation = ScaledStim(waveform=waveform, dt=time_step, tstop=time_stop)\n",
    "\n",
    "    amp, ap = stimulation.find_threshold(fiber, silent=True)  # Find threshold\n",
    "\n",
    "    return amp"
   ]
  },
  {
   "cell_type": "markdown",
   "metadata": {
    "pycharm": {
     "name": "#%% md\n"
    }
   },
   "source": [
    "## Parallelization with multiprocess\n",
    "The ``multiprocess`` package provides a way to create and manage multiple processes in Python, similar to how the\n",
    "threading module handles threads. The Pool object creates a pool of processes which can be used to parallelize our\n",
    "fiber jobs. See the [multiprocess documentation](https://multiprocess.readthedocs.io/en/latest/)."
   ]
  },
  {
   "cell_type": "markdown",
   "metadata": {},
   "source": [
    "## Determine available cpus\n",
    "Before submitting any jobs, first use the multiprocess package to see the number of cpus available on your machine."
   ]
  },
  {
   "cell_type": "code",
   "execution_count": null,
   "metadata": {
    "pycharm": {
     "name": "#%%\n"
    }
   },
   "outputs": [],
   "source": [
    "import multiprocess\n",
    "\n",
    "cpus = multiprocess.cpu_count() - 1\n",
    "print(cpus)"
   ]
  },
  {
   "cell_type": "markdown",
   "metadata": {
    "pycharm": {
     "name": "#%% md\n"
    }
   },
   "source": [
    "## Parallelize fiber jobs for a list of fibers\n",
    "Now, create an instance of the ``multiprocess.Pool`` class. Finally, we can use the ``Pool.starmap()`` method in the\n",
    "Pool class to submit our jobs to the process pool. The ``Pool.starmap()`` method allows us to pass in a function with multiple\n",
    "arguments to simultaneously submit jobs. For this tutorial, we will demonstrate submitting local parallel jobs to find\n",
    "the activation threshold for a list of fibers, each with a unique diameter. \n",
    "\n",
    "NOTE: You must place the ``Pool.starmap()`` call inside of an ``if __name__ == \"__main__\":`` statement, as shown below, otherwise your Python code will generate an infinite loop. Besides function definitions, all other functionality you use should be\n",
    "under this statement as well."
   ]
  },
  {
   "cell_type": "code",
   "execution_count": null,
   "metadata": {
    "pycharm": {
     "name": "#%%\n"
    }
   },
   "outputs": [],
   "source": [
    "from multiprocess import Pool\n",
    "\n",
    "if __name__ == \"__main__\":\n",
    "    fiber_diams = [2.0, 5.7, 8.7, 11.5, 14.0]\n",
    "    temp = 37\n",
    "    params = [(diam, temp) for diam in fiber_diams]\n",
    "\n",
    "    with Pool(cpus) as p:\n",
    "        results = p.starmap(create_and_run_sim, params)"
   ]
  },
  {
   "cell_type": "markdown",
   "metadata": {},
   "source": [
    "Let's plot the activation threshold vs. fiber diameter to see if a relationship between the two exists."
   ]
  },
  {
   "cell_type": "code",
   "execution_count": null,
   "metadata": {},
   "outputs": [],
   "source": [
    "import matplotlib.pyplot as plt\n",
    "import seaborn as sns\n",
    "import numpy as np\n",
    "\n",
    "sns.set(font_scale=1.5, style='whitegrid', palette='colorblind')\n",
    "\n",
    "plt.figure()\n",
    "plt.plot(fiber_diams, -np.array(results), marker='o')\n",
    "plt.xlabel('Diameter (microns)')\n",
    "plt.ylabel('Activation threshold (mA)')\n",
    "plt.show()"
   ]
  },
  {
   "cell_type": "markdown",
   "metadata": {},
   "source": [
    "Parallelization is not just limited to running multiple fiber diameters. You could also test the same fiber\n",
    "with different stimulation parameters, or different numbers of sections. Let's do another example, except this time, let's vary the number of sections. Again, let's visualize the data to see if a relationship exists between fiber length and activation threshold."
   ]
  },
  {
   "cell_type": "code",
   "execution_count": null,
   "metadata": {},
   "outputs": [],
   "source": [
    "if __name__ == \"__main__\":\n",
    "    diam = 5.7\n",
    "    temps = [20, 26, 32, 37]\n",
    "    params = [(diam, temp) for temp in temps]\n",
    "    with Pool(cpus) as p:\n",
    "        results = p.starmap(create_and_run_sim, params)"
   ]
  },
  {
   "cell_type": "code",
   "execution_count": null,
   "metadata": {},
   "outputs": [],
   "source": [
    "plt.figure()\n",
    "plt.plot(temps, -np.array(results), marker='o')\n",
    "plt.xlabel('Temperature (C)')\n",
    "plt.ylabel('Activation threshold (mA)')\n",
    "plt.show()"
   ]
  }
 ],
 "metadata": {
  "kernelspec": {
   "display_name": "pyfibers",
   "language": "python",
   "name": "python3"
  },
  "language_info": {
   "codemirror_mode": {
    "name": "ipython",
    "version": 3
   },
   "file_extension": ".py",
   "mimetype": "text/x-python",
   "name": "python",
   "nbconvert_exporter": "python",
   "pygments_lexer": "ipython3",
   "version": "3.12.4"
  }
 },
 "nbformat": 4,
 "nbformat_minor": 1
}
