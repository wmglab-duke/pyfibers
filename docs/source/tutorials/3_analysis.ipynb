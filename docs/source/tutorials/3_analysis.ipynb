{
 "cells": [
  {
   "cell_type": "markdown",
   "metadata": {},
   "source": [
    "# Analyze Simulation Results\n",
    "This tutorial will use the simulation results from the [finite amplitudes stimulation](1_finite_amp.ipynb) and [activation threshold search](2_activation_threshold.ipynb) tutorials. We will analyze the response in transmembrane electric potential (Vm) and gating variables to extracellular stimulation of a fiber over space and time."
   ]
  },
  {
   "cell_type": "markdown",
   "metadata": {},
   "source": [
    "## Create the fiber and set up simulation\n",
    "As before, we create fiber, waveform, potentials and stimulation object."
   ]
  },
  {
   "cell_type": "code",
   "execution_count": null,
   "metadata": {},
   "outputs": [],
   "source": [
    "import numpy as np\n",
    "from pyfibers import build_fiber, FiberModel, ScaledStim\n",
    "\n",
    "# create fiber model\n",
    "n_sections = 265\n",
    "fiber = build_fiber(FiberModel.MRG_INTERPOLATION, diameter=10, n_sections=n_sections)\n",
    "print(fiber)\n",
    "\n",
    "# Setup for simulation. Add zeros at the beginning so we get some baseline for visualization\n",
    "waveform = np.concatenate((np.zeros(100), np.ones(100), np.zeros(48000)))  # biphasic rectangular pulse\n",
    "\n",
    "fiber.potentials = fiber.point_source_potentials(0, 250, fiber.length / 2, 1, 10)\n",
    "\n",
    "time_step = 0.001  # TODO increase timestep and shorten simulation time in all notebooks\n",
    "time_stop = 50\n",
    "\n",
    "# Create stimulation object\n",
    "stimulation = ScaledStim(waveform=waveform, dt=time_step, tstop=time_stop)"
   ]
  },
  {
   "cell_type": "markdown",
   "metadata": {},
   "source": [
    "## Run search for activation threshold"
   ]
  },
  {
   "cell_type": "markdown",
   "metadata": {},
   "source": [
    "As before, we can simulate the response to a single stimulation pulse."
   ]
  },
  {
   "cell_type": "code",
   "execution_count": null,
   "metadata": {},
   "outputs": [],
   "source": [
    "stimamp = -1.5  # mA\n",
    "ap, time = stimulation.run_sim(stimamp, fiber)\n",
    "print(f'Number of action potentials detected: {ap}')\n",
    "print(f'Time of last action potential detection: {time} ms')"
   ]
  },
  {
   "cell_type": "markdown",
   "metadata": {},
   "source": [
    "Before running the simulation, we did not tell the fiber to save any data. Therefore, no transmembrane potential (Vm) or gating variable information was stored. We can confirm this using Python's hasattr() command."
   ]
  },
  {
   "cell_type": "code",
   "execution_count": null,
   "metadata": {},
   "outputs": [],
   "source": [
    "# checks if the fiber object has the given attribute:\n",
    "# transmembrane_potentials (vm), gating variables (gating) and transmembrane currents (im)\n",
    "saved_vm = fiber.vm is not None\n",
    "print(f\"Saved Vm?\\n\\t{saved_vm}\\n\")\n",
    "\n",
    "saved_gating = fiber.gating is not None\n",
    "print(f\"Saved gating?\\n\\t{saved_gating}\")\n",
    "\n",
    "saved_im = fiber.im is not None\n",
    "print(f\"Saved Im?\\n\\t{saved_im}\")"
   ]
  },
  {
   "cell_type": "markdown",
   "metadata": {},
   "source": [
    "Let's control the fiber to save the membrane voltage and gating variables and then re-run the simulation."
   ]
  },
  {
   "cell_type": "code",
   "execution_count": null,
   "metadata": {},
   "outputs": [],
   "source": [
    "fiber.set_save_vm()  # save membrane voltage\n",
    "fiber.set_save_gating()  # save gating variables\n",
    "fiber.set_save_im()  # save membrane current\n",
    "ap, time = stimulation.run_sim(-1.5, fiber)"
   ]
  },
  {
   "cell_type": "markdown",
   "metadata": {},
   "source": [
    "Now that we have saved membrane voltage and gating variables, let's take a look at them."
   ]
  },
  {
   "cell_type": "code",
   "execution_count": null,
   "metadata": {},
   "outputs": [],
   "source": [
    "print(fiber.vm)\n",
    "print(fiber.gating)\n",
    "print(fiber.im)"
   ]
  },
  {
   "cell_type": "markdown",
   "metadata": {},
   "source": [
    "We have a neuron `Vector` object for each node of the fiber.\n",
    "\n",
    "NOTICE: By default MRG fibers are created with passive end nodes (see that the first and last values are \"None\") to prevent initiation of action potentials at the terminals due to edge-effects. We are simulating the response of a fiber of finite length local to the site of stimulation.\n",
    "\n",
    "Next, let's plot the transmembrane voltage for one end compartment and the center compartment to visualize the fiber response to stimulation."
   ]
  },
  {
   "cell_type": "code",
   "execution_count": null,
   "metadata": {},
   "outputs": [],
   "source": [
    "import matplotlib.pyplot as plt\n",
    "import seaborn as sns\n",
    "\n",
    "end_node = 1  # not zero since it was passive and therefore has no data to show!\n",
    "center_node = int(np.floor(0.5 * (1 + (n_sections - 1) / 11)))\n",
    "\n",
    "sns.set(font_scale=1.5, style='whitegrid', palette='colorblind')\n",
    "\n",
    "plt.figure()\n",
    "plt.plot(\n",
    "    np.array(stimulation.time)[:2000], list(fiber.vm[end_node])[:2000], label='end node', color='royalblue', linewidth=2\n",
    ")\n",
    "plt.plot(\n",
    "    np.array(stimulation.time)[:2000],\n",
    "    list(fiber.vm[center_node])[:2000],\n",
    "    label='center node',\n",
    "    color='mediumturquoise',\n",
    "    linewidth=2,\n",
    ")\n",
    "plt.legend()\n",
    "plt.xlabel('Time (ms)')\n",
    "plt.ylabel('$V_m$ $(mV)$')\n",
    "ax2 = plt.gca().twinx()\n",
    "ax2.plot(np.array(stimulation.time)[:2000], stimamp * waveform[:2000], 'k--', label='Stimulus')\n",
    "ax2.legend(loc=4)\n",
    "ax2.grid(False)\n",
    "plt.ylabel('Stimulation amplitude (mA)')\n",
    "plt.show()"
   ]
  },
  {
   "cell_type": "markdown",
   "metadata": {},
   "source": [
    "We can plot a heatmap of the voltage across all compartments over time."
   ]
  },
  {
   "cell_type": "code",
   "execution_count": null,
   "metadata": {},
   "outputs": [],
   "source": [
    "import pandas as pd\n",
    "\n",
    "data = pd.DataFrame(np.array(fiber.vm[1:-1]))\n",
    "vrest = fiber[0].e_pas\n",
    "print('Membrane rest voltage:', vrest)\n",
    "g = sns.heatmap(\n",
    "    data,\n",
    "    cbar_kws={'label': '$V_m$ $(mV)$'},\n",
    "    cmap='seismic',\n",
    "    vmax=np.amax(data.values) + vrest,\n",
    "    vmin=-np.amax(data.values) + vrest,\n",
    ")\n",
    "plt.xlim([0, 1000])\n",
    "plt.ylabel('Node index')\n",
    "plt.xlabel('Time (ms)')\n",
    "tick_locs = np.linspace(0, len(np.array(stimulation.time)[:1000]), 9)\n",
    "labels = [round(np.array(stimulation.time)[int(ind)], 2) for ind in tick_locs]\n",
    "g.set_xticks(ticks=tick_locs, labels=labels)\n",
    "plt.title(\n",
    "    'Membrane voltage over time\\\n",
    "          \\nRed=depolarized, Blue=hyperpolarized'\n",
    ")"
   ]
  },
  {
   "cell_type": "markdown",
   "metadata": {},
   "source": [
    "Running a threshold search will also save our variables. Let's try plotting Vm at threshold."
   ]
  },
  {
   "cell_type": "code",
   "execution_count": null,
   "metadata": {},
   "outputs": [],
   "source": [
    "amp, ap = stimulation.find_threshold(fiber)\n",
    "print(f'Activation threshold: {amp} mA')"
   ]
  },
  {
   "cell_type": "code",
   "execution_count": null,
   "metadata": {},
   "outputs": [],
   "source": [
    "# plot vm\n",
    "plt.figure()\n",
    "plt.plot(\n",
    "    np.array(stimulation.time)[:2000], list(fiber.vm[end_node])[:2000], label='end node', color='royalblue', linewidth=2\n",
    ")\n",
    "plt.plot(\n",
    "    np.array(stimulation.time)[:2000],\n",
    "    list(fiber.vm[center_node])[:2000],\n",
    "    label='center node',\n",
    "    color='mediumturquoise',\n",
    "    linewidth=2,\n",
    ")\n",
    "plt.legend()\n",
    "plt.xlabel('Time (ms)')\n",
    "plt.ylabel('$V_m$ $(mV)$')\n",
    "ax2 = plt.gca().twinx()\n",
    "ax2.plot(np.array(stimulation.time)[:2000], amp * waveform[:2000], 'k--', label='Stimulus')\n",
    "ax2.legend(loc=4)\n",
    "ax2.grid(False)\n",
    "plt.ylabel('Stimulation amplitude (mA)')\n",
    "plt.show()"
   ]
  },
  {
   "cell_type": "code",
   "execution_count": null,
   "metadata": {},
   "outputs": [],
   "source": [
    "# plot heatmap\n",
    "data = pd.DataFrame(np.array(fiber.vm[1:-1]))\n",
    "vrest = fiber[0].e_pas\n",
    "print('Membrane rest voltage:', vrest)\n",
    "g = sns.heatmap(\n",
    "    data,\n",
    "    cbar_kws={'label': '$V_m$ $(mV)$'},\n",
    "    cmap='seismic',\n",
    "    vmax=np.amax(data.values) + vrest,\n",
    "    vmin=-np.amax(data.values) + vrest,\n",
    ")\n",
    "plt.xlim([0, 1000])\n",
    "tick_locs = np.linspace(0, len(np.array(stimulation.time)[:1000]), 9)\n",
    "labels = [round(np.array(stimulation.time)[int(ind)], 2) for ind in tick_locs]\n",
    "g.set_xticks(ticks=tick_locs, labels=labels)\n",
    "plt.ylabel('Node index')\n",
    "plt.xlabel('Time (ms)')\n",
    "plt.title(\n",
    "    'Membrane voltage over time. \\\n",
    "          \\nRed=depolarized, Blue=hyperpolarized'\n",
    ")"
   ]
  },
  {
   "cell_type": "markdown",
   "metadata": {},
   "source": [
    "Let's take a look at the gating variables."
   ]
  },
  {
   "cell_type": "code",
   "execution_count": null,
   "metadata": {},
   "outputs": [],
   "source": [
    "# plot gating variables\n",
    "plt.figure()\n",
    "for var in fiber.gating:\n",
    "    plt.plot(np.array(stimulation.time)[:2000], list(fiber.gating[var][6])[:2000], label=var)\n",
    "plt.legend()\n",
    "plt.xlabel('Time (ms)')\n",
    "plt.ylabel('Gating probability')\n",
    "ax2 = plt.gca().twinx()\n",
    "ax2.plot(np.array(stimulation.time)[:2000], amp * waveform[:2000], 'k--', label='Stimulus')\n",
    "ax2.legend(loc=4)\n",
    "ax2.grid(False)\n",
    "plt.ylabel('Stimulation amplitude (mA)')\n",
    "plt.show()"
   ]
  },
  {
   "cell_type": "markdown",
   "metadata": {},
   "source": [
    "...and the transmembrane currents. "
   ]
  },
  {
   "cell_type": "code",
   "execution_count": null,
   "metadata": {},
   "outputs": [],
   "source": [
    "plt.figure()\n",
    "fig, axs = plt.subplots(3, 1, figsize=(5, 5), sharex=True, gridspec_kw={'hspace': 0.3})\n",
    "plt.sca(axs[0])\n",
    "# plot stimulus\n",
    "plt.plot(np.array(stimulation.time)[:2000], amp * waveform[:2000], 'k--', label='Stimulus')\n",
    "plt.title('Stimulus')\n",
    "plt.sca(axs[1])\n",
    "# plot membrane voltage\n",
    "plt.plot(\n",
    "    np.array(stimulation.time)[:2000],\n",
    "    list(fiber.vm[center_node])[:2000],\n",
    "    color='mediumturquoise',\n",
    "    linewidth=2,\n",
    "    label='$V_m$',\n",
    ")\n",
    "# plot im\n",
    "plt.plot(\n",
    "    np.array(stimulation.time)[:2000],\n",
    "    list(fiber.im[center_node])[:2000],\n",
    "    color='mediumturquoise',\n",
    "    linewidth=2,\n",
    "    label='$I_m$',\n",
    "    ls='--',\n",
    ")\n",
    "plt.title('Center node')\n",
    "plt.legend()\n",
    "plt.sca(axs[2])\n",
    "# plot end node\n",
    "plt.plot(\n",
    "    np.array(stimulation.time)[:2000], list(fiber.vm[end_node])[:2000], color='royalblue', linewidth=2, label='$V_m$'\n",
    ")\n",
    "plt.plot(\n",
    "    np.array(stimulation.time)[:2000],\n",
    "    list(fiber.im[end_node])[:2000],\n",
    "    color='royalblue',\n",
    "    linewidth=2,\n",
    "    label='$I_m$',\n",
    "    ls='--',\n",
    ")\n",
    "plt.title('End node')\n",
    "plt.legend()\n",
    "plt.xlim([0, 2])\n",
    "axs[2].set_xlabel('Time (ms)')\n",
    "plt.show()"
   ]
  },
  {
   "cell_type": "markdown",
   "metadata": {},
   "source": [
    "Finally, we can use the data to make videos, which can help visualize how the fiber variables change over time."
   ]
  },
  {
   "cell_type": "code",
   "execution_count": null,
   "metadata": {},
   "outputs": [],
   "source": [
    "from moviepy.editor import VideoClip\n",
    "from moviepy.video.io.bindings import mplfig_to_npimage\n",
    "\n",
    "# %% make video of vm\n",
    "fps = 30\n",
    "skip = 10  # do every 10th timestep\n",
    "stop = 2 / time_step  # stop after 2 milliseconds\n",
    "\n",
    "duration = stop / fps / skip  # milliseconds\n",
    "ylim = (np.amin(list(fiber.vm[1:-1]))), np.amax(list(fiber.vm[1:-1]))\n",
    "\n",
    "fig, ax = plt.subplots()\n",
    "\n",
    "\n",
    "def make_frame(i):\n",
    "    \"\"\"Create frame of video.\n",
    "\n",
    "    :param i: index of frame, given to function by moviepy\n",
    "    :returns: figure as image\n",
    "    \"\"\"\n",
    "    ind = int(i * skip * fps)\n",
    "    ax.clear()\n",
    "    ax.set_ylim(ylim)\n",
    "    ax.plot([v[ind] for v in fiber.vm[1:-1]], lw=3)\n",
    "    plt.title(f'Time: {stimulation.time[ind]:0.1f} ms')\n",
    "    plt.ylabel('$V_m$')\n",
    "    plt.xlabel('Node index')\n",
    "    plt.tight_layout()\n",
    "    return mplfig_to_npimage(fig)\n",
    "\n",
    "\n",
    "animation = VideoClip(make_frame, duration=duration)\n",
    "animation.write_videofile('ap.mp4', fps=fps)\n",
    "plt.close()"
   ]
  },
  {
   "cell_type": "code",
   "execution_count": null,
   "metadata": {},
   "outputs": [],
   "source": [
    "# display video\n",
    "from IPython.display import HTML\n",
    "\n",
    "HTML(\n",
    "    \"\"\"\n",
    "<video width=\"320\" height=\"240\" controls>\n",
    "  <source src=\"ap.mp4\" type=\"video/mp4\">\n",
    "</video>\n",
    "\"\"\"\n",
    ")"
   ]
  },
  {
   "cell_type": "markdown",
   "metadata": {},
   "source": [
    "You can use the same technique to plot other data, such as transmembrane current or gating variables!"
   ]
  }
 ],
 "metadata": {
  "kernelspec": {
   "display_name": "Python 3 (ipykernel)",
   "language": "python",
   "name": "python3"
  },
  "language_info": {
   "codemirror_mode": {
    "name": "ipython",
    "version": 3
   },
   "file_extension": ".py",
   "mimetype": "text/x-python",
   "name": "python",
   "nbconvert_exporter": "python",
   "pygments_lexer": "ipython3",
   "version": "3.11.9"
  }
 },
 "nbformat": 4,
 "nbformat_minor": 4
}
