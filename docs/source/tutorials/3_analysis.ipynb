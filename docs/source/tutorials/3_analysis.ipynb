{
 "cells": [
  {
   "cell_type": "markdown",
   "metadata": {},
   "source": [
    "# Analyze Simulation Results\n",
    "This tutorial will use the {py:class}`~pyfibers.fiber.Fiber` from the [fiber creation tutorial](1_create_fiber.ipynb) and simulation results from the [simulation and threshold search](2_sim_and_activation.ipynb) tutorials. We will analyze the response in transmembrane electric potential (Vm) and gating variables to extracellular stimulation of a fiber over space and time."
   ]
  },
  {
   "cell_type": "markdown",
   "metadata": {},
   "source": [
    "## Create the fiber and set up simulation\n",
    "As before, we create fiber, waveform, potentials and {py:class}`~pyfibers.stimulation.ScaledStim` object."
   ]
  },
  {
   "cell_type": "code",
   "execution_count": null,
   "metadata": {},
   "outputs": [],
   "source": [
    "from pyfibers import build_fiber, FiberModel, ScaledStim\n",
    "import numpy as np\n",
    "from scipy.interpolate import interp1d\n",
    "\n",
    "# create fiber model\n",
    "n_nodes = 25\n",
    "fiber = build_fiber(FiberModel.MRG_INTERPOLATION, diameter=10, n_nodes=n_nodes)\n",
    "print(fiber)\n",
    "\n",
    "# Setup for simulation. Add zeros at the beginning so we get some baseline for visualization\n",
    "time_step = 0.001\n",
    "time_stop = 20\n",
    "start, on, off = 0, 0.1, 0.2  # milliseconds\n",
    "waveform = interp1d(\n",
    "    [start, on, off, time_stop], [0, 1, 0, 0], kind=\"previous\"\n",
    ")  # monophasic rectangular pulse\n",
    "\n",
    "fiber.potentials = fiber.point_source_potentials(0, 250, fiber.length / 2, 1, 10)\n",
    "\n",
    "# Create stimulation object\n",
    "stimulation = ScaledStim(waveform=waveform, dt=time_step, tstop=time_stop)"
   ]
  },
  {
   "cell_type": "markdown",
   "metadata": {},
   "source": [
    "## Run Simulation"
   ]
  },
  {
   "cell_type": "markdown",
   "metadata": {},
   "source": [
    "As before, we can simulate the response to a single stimulation pulse."
   ]
  },
  {
   "cell_type": "code",
   "execution_count": null,
   "metadata": {},
   "outputs": [],
   "source": [
    "stimamp = -1.5  # mA\n",
    "ap, time = stimulation.run_sim(stimamp, fiber)\n",
    "print(f'Number of action potentials detected: {ap}')\n",
    "print(f'Time of last action potential detection: {time} ms')"
   ]
  },
  {
   "cell_type": "markdown",
   "metadata": {},
   "source": [
    "Before running the simulation, we did not tell the fiber to save any data. Therefore, no transmembrane potential (Vm) or gating variable information was stored. We can confirm this using Python's ``hasattr()`` command."
   ]
  },
  {
   "cell_type": "code",
   "execution_count": null,
   "metadata": {},
   "outputs": [],
   "source": [
    "# checks if the fiber object has the given attribute:\n",
    "# transmembrane_potentials (vm), gating variables (gating) and transmembrane currents (im)\n",
    "saved_vm = fiber.vm is not None\n",
    "print(f\"Saved Vm?\\n\\t{saved_vm}\\n\")\n",
    "\n",
    "saved_gating = fiber.gating is not None\n",
    "print(f\"Saved gating?\\n\\t{saved_gating}\")\n",
    "\n",
    "saved_im = fiber.im is not None\n",
    "print(f\"Saved Im?\\n\\t{saved_im}\")"
   ]
  },
  {
   "cell_type": "markdown",
   "metadata": {},
   "source": [
    "Let's control the fiber to save the membrane voltage and gating variables and then re-run the simulation. Note that you can record from specific sections of the fiber, record at specific timepoints, or record at a given time step (larger than the simulation time step). For more info, see the {py:class}`Fiber API Documentation <pyfibers.fiber.Fiber>`. Here, we will proceed with the default usage, which records for all nodes (rather than at every section) at every simulation time step."
   ]
  },
  {
   "cell_type": "code",
   "execution_count": null,
   "metadata": {},
   "outputs": [],
   "source": [
    "fiber.record_vm()  # save membrane voltage\n",
    "fiber.record_gating()  # save gating variables\n",
    "fiber.record_im()  # save membrane current\n",
    "ap, time = stimulation.run_sim(-1.5, fiber)"
   ]
  },
  {
   "cell_type": "markdown",
   "metadata": {},
   "source": [
    "Now that we have saved membrane voltage and gating variables, let's take a look at them."
   ]
  },
  {
   "cell_type": "code",
   "execution_count": null,
   "metadata": {},
   "outputs": [],
   "source": [
    "print(fiber.vm)\n",
    "print(fiber.gating)\n",
    "print(fiber.im)"
   ]
  },
  {
   "cell_type": "markdown",
   "metadata": {},
   "source": [
    "We have a neuron {py:class}`Vector <h.Vector>` object for each node of the fiber.\n",
    "\n",
    "NOTE: By default MRG fibers are created with passive end nodes (see that the first and last values are \"None\") to prevent initiation of action potentials at the terminals due to edge-effects. We are simulating the response of a fiber of finite length local to the site of stimulation.\n",
    "\n",
    "Next, let's plot the transmembrane voltage for one end compartment and the center compartment to visualize the fiber response to stimulation."
   ]
  },
  {
   "cell_type": "code",
   "execution_count": null,
   "metadata": {},
   "outputs": [],
   "source": [
    "import matplotlib.pyplot as plt\n",
    "import seaborn as sns\n",
    "\n",
    "sns.set(font_scale=1.5, style='whitegrid', palette='colorblind')\n",
    "\n",
    "end_node = 1  # not zero since it was passive and therefore has no data to show!\n",
    "center_node = fiber.loc_index(0.5)\n",
    "\n",
    "plt.figure()\n",
    "plt.plot(\n",
    "    np.array(stimulation.time),\n",
    "    list(fiber.vm[end_node]),\n",
    "    label='end node',\n",
    "    color='royalblue',\n",
    "    linewidth=2,\n",
    ")\n",
    "plt.plot(\n",
    "    np.array(stimulation.time),\n",
    "    list(fiber.vm[center_node]),\n",
    "    label='center node',\n",
    "    color='mediumturquoise',\n",
    "    linewidth=2,\n",
    ")\n",
    "plt.legend()\n",
    "plt.xlabel('Time (ms)')\n",
    "plt.ylabel('$V_m$ $(mV)$')\n",
    "ax2 = plt.gca().twinx()\n",
    "ax2.plot(\n",
    "    np.array(stimulation.time),\n",
    "    stimamp * waveform(stimulation.time),\n",
    "    'k--',\n",
    "    label='Stimulus',\n",
    ")\n",
    "ax2.legend(loc=4)\n",
    "ax2.grid(False)\n",
    "plt.xlim([0, 2])\n",
    "plt.ylabel('Stimulation amplitude (mA)')\n",
    "plt.show()"
   ]
  },
  {
   "cell_type": "markdown",
   "metadata": {},
   "source": [
    "We can plot a heatmap of the voltage across all compartments over time."
   ]
  },
  {
   "cell_type": "code",
   "execution_count": null,
   "metadata": {},
   "outputs": [],
   "source": [
    "import pandas as pd\n",
    "\n",
    "data = pd.DataFrame(np.array(fiber.vm[1:-1]))\n",
    "vrest = fiber[0].e_pas\n",
    "print('Membrane rest voltage:', vrest)\n",
    "g = sns.heatmap(\n",
    "    data,\n",
    "    cbar_kws={'label': '$V_m$ $(mV)$'},\n",
    "    cmap='seismic',\n",
    "    vmax=np.amax(data.values) + vrest,\n",
    "    vmin=-np.amax(data.values) + vrest,\n",
    ")\n",
    "plt.xlim([0, 2000])\n",
    "plt.ylabel('Node index')\n",
    "plt.xlabel('Time (ms)')\n",
    "tick_locs = np.linspace(0, len(np.array(stimulation.time)[:2000]), 9)\n",
    "labels = [round(np.array(stimulation.time)[int(ind)], 2) for ind in tick_locs]\n",
    "g.set_xticks(ticks=tick_locs, labels=labels)\n",
    "plt.title(\n",
    "    'Membrane voltage over time\\\n",
    "          \\nRed=depolarized, Blue=hyperpolarized'\n",
    ")"
   ]
  },
  {
   "cell_type": "markdown",
   "metadata": {},
   "source": [
    "Running a threshold search will also save our variables. Let's try plotting Vm at threshold."
   ]
  },
  {
   "cell_type": "code",
   "execution_count": null,
   "metadata": {},
   "outputs": [],
   "source": [
    "amp, ap = stimulation.find_threshold(fiber)\n",
    "print(f'Activation threshold: {amp} mA')"
   ]
  },
  {
   "cell_type": "code",
   "execution_count": null,
   "metadata": {},
   "outputs": [],
   "source": [
    "# plot vm\n",
    "plt.figure()\n",
    "plt.plot(\n",
    "    np.array(stimulation.time),\n",
    "    list(fiber.vm[end_node]),\n",
    "    label='end node',\n",
    "    color='royalblue',\n",
    "    linewidth=2,\n",
    ")\n",
    "plt.plot(\n",
    "    np.array(stimulation.time),\n",
    "    list(fiber.vm[center_node]),\n",
    "    label='center node',\n",
    "    color='mediumturquoise',\n",
    "    linewidth=2,\n",
    ")\n",
    "plt.xlim([0, 2])\n",
    "plt.legend()\n",
    "plt.xlabel('Time (ms)')\n",
    "plt.ylabel('$V_m$ $(mV)$')\n",
    "ax2 = plt.gca().twinx()\n",
    "ax2.plot(\n",
    "    np.array(stimulation.time),\n",
    "    amp * waveform(stimulation.time),\n",
    "    'k--',\n",
    "    label='Stimulus',\n",
    ")\n",
    "ax2.legend(loc=4)\n",
    "ax2.grid(False)\n",
    "plt.ylabel('Stimulation amplitude (mA)')\n",
    "plt.show()"
   ]
  },
  {
   "cell_type": "code",
   "execution_count": null,
   "metadata": {},
   "outputs": [],
   "source": [
    "# plot heatmap\n",
    "data = pd.DataFrame(np.array(fiber.vm[1:-1]))\n",
    "vrest = fiber[0].e_pas\n",
    "print('Membrane rest voltage:', vrest)\n",
    "g = sns.heatmap(\n",
    "    data,\n",
    "    cbar_kws={'label': '$V_m$ $(mV)$'},\n",
    "    cmap='seismic',\n",
    "    vmax=np.amax(data.values) + vrest,\n",
    "    vmin=-np.amax(data.values) + vrest,\n",
    ")\n",
    "plt.xlim([0, 2000])\n",
    "tick_locs = np.linspace(0, len(np.array(stimulation.time)[:2000]), 9)\n",
    "labels = [round(np.array(stimulation.time)[int(ind)], 2) for ind in tick_locs]\n",
    "g.set_xticks(ticks=tick_locs, labels=labels)\n",
    "plt.ylabel('Node index')\n",
    "plt.xlabel('Time (ms)')\n",
    "plt.title(\n",
    "    'Membrane voltage over time. \\\n",
    "          \\nRed=depolarized, Blue=hyperpolarized'\n",
    ")"
   ]
  },
  {
   "cell_type": "markdown",
   "metadata": {},
   "source": [
    "Let's take a look at the gating variables."
   ]
  },
  {
   "cell_type": "code",
   "execution_count": null,
   "metadata": {},
   "outputs": [],
   "source": [
    "# plot gating variables\n",
    "plt.figure()\n",
    "for var in fiber.gating:\n",
    "    plt.plot(np.array(stimulation.time), list(fiber.gating[var][6]), label=var)\n",
    "plt.legend()\n",
    "plt.xlabel('Time (ms)')\n",
    "plt.ylabel('Gating probability')\n",
    "ax2 = plt.gca().twinx()\n",
    "ax2.plot(\n",
    "    np.array(stimulation.time),\n",
    "    amp * waveform(stimulation.time),\n",
    "    'k--',\n",
    "    label='Stimulus',\n",
    ")\n",
    "ax2.legend(loc=4)\n",
    "ax2.grid(False)\n",
    "plt.xlim([0, 2])\n",
    "plt.ylabel('Stimulation amplitude (mA)')\n",
    "plt.show()"
   ]
  },
  {
   "cell_type": "markdown",
   "metadata": {},
   "source": [
    "...and the transmembrane currents. "
   ]
  },
  {
   "cell_type": "code",
   "execution_count": null,
   "metadata": {},
   "outputs": [],
   "source": [
    "plt.figure()\n",
    "fig, axs = plt.subplots(3, 1, figsize=(5, 5), sharex=True, gridspec_kw={'hspace': 0.3})\n",
    "plt.sca(axs[0])\n",
    "# plot stimulus\n",
    "plt.plot(\n",
    "    np.array(stimulation.time),\n",
    "    amp * waveform(stimulation.time),\n",
    "    'k--',\n",
    "    label='Stimulus',\n",
    ")\n",
    "plt.title('Stimulus')\n",
    "plt.sca(axs[1])\n",
    "# plot membrane voltage\n",
    "plt.plot(\n",
    "    np.array(stimulation.time),\n",
    "    list(fiber.vm[center_node]),\n",
    "    color='mediumturquoise',\n",
    "    linewidth=2,\n",
    "    label='$V_m$',\n",
    ")\n",
    "# plot im\n",
    "plt.plot(\n",
    "    np.array(stimulation.time),\n",
    "    list(fiber.im[center_node]),\n",
    "    color='mediumturquoise',\n",
    "    linewidth=2,\n",
    "    label='$I_m$',\n",
    "    ls='--',\n",
    ")\n",
    "plt.title('Center node')\n",
    "plt.legend()\n",
    "plt.sca(axs[2])\n",
    "# plot end node\n",
    "plt.plot(\n",
    "    np.array(stimulation.time),\n",
    "    list(fiber.vm[end_node]),\n",
    "    color='royalblue',\n",
    "    linewidth=2,\n",
    "    label='$V_m$',\n",
    ")\n",
    "plt.plot(\n",
    "    np.array(stimulation.time),\n",
    "    list(fiber.im[end_node]),\n",
    "    color='royalblue',\n",
    "    linewidth=2,\n",
    "    label='$I_m$',\n",
    "    ls='--',\n",
    ")\n",
    "plt.title('End node')\n",
    "plt.legend()\n",
    "plt.xlim([0, 2])\n",
    "axs[2].set_xlabel('Time (ms)')\n",
    "plt.show()"
   ]
  },
  {
   "cell_type": "markdown",
   "metadata": {},
   "source": [
    "Finally, we can use the data to make videos, which can help visualize how the fiber variables change over time."
   ]
  },
  {
   "cell_type": "code",
   "execution_count": null,
   "metadata": {},
   "outputs": [],
   "source": [
    "from matplotlib.animation import FuncAnimation\n",
    "\n",
    "# Parameters\n",
    "skip = 10  # Process every 10th timestep\n",
    "stop_time = 2  # Stop after 2 milliseconds\n",
    "\n",
    "# Calculate total number of timesteps available\n",
    "total_steps = len(fiber.vm[0])  # Assuming each node in fiber.vm is a list or array\n",
    "n_frames = int(stop_time / (time_step * skip))\n",
    "\n",
    "ylim = (np.amin(list(fiber.vm[1:-1])), np.amax(list(fiber.vm[1:-1])))\n",
    "\n",
    "# Set up the x-axis (node indices or positions)\n",
    "node_indices = range(1, len(fiber.vm) - 1)  # Adjust to match your data\n",
    "\n",
    "# Set up the figure and axis\n",
    "fig, ax = plt.subplots()\n",
    "ax.set_ylim(ylim)\n",
    "ax.set_xlim(min(node_indices), max(node_indices))\n",
    "ax.set_xlabel('Node index')\n",
    "ax.set_ylabel('$V_m$')\n",
    "\n",
    "(line,) = ax.plot([], [], lw=3, color='mediumturquoise')\n",
    "title = ax.set_title('')\n",
    "\n",
    "\n",
    "# Initialize the frame\n",
    "def init():  # noqa: D103\n",
    "    line.set_data([], [])\n",
    "    title.set_text('')\n",
    "    return line, title\n",
    "\n",
    "\n",
    "# Update function for animation\n",
    "def update(frame):  # noqa: D103\n",
    "    ind = frame * skip\n",
    "    if ind >= total_steps:  # Safety check\n",
    "        return line, title\n",
    "    y_data = [v[ind] for v in fiber.vm[1:-1]]\n",
    "    line.set_data(node_indices, y_data)\n",
    "    title.set_text(f'Time: {ind * time_step:.1f} ms')\n",
    "    return line, title\n",
    "\n",
    "\n",
    "# Create animation\n",
    "ani = FuncAnimation(\n",
    "    fig, update, frames=n_frames, init_func=init, blit=True, interval=20\n",
    ")\n",
    "\n",
    "# Adjust layout to prevent clipping\n",
    "plt.tight_layout()\n",
    "\n",
    "# Display the animation\n",
    "from IPython.display import HTML\n",
    "\n",
    "plt.close(fig)  # Close the static plot\n",
    "HTML(ani.to_jshtml())"
   ]
  },
  {
   "cell_type": "markdown",
   "metadata": {},
   "source": [
    "You can use the same technique to plot videos of other data, such as transmembrane current or gating variables!"
   ]
  }
 ],
 "metadata": {
  "kernelspec": {
   "display_name": "pyfibers",
   "language": "python",
   "name": "python3"
  },
  "language_info": {
   "codemirror_mode": {
    "name": "ipython",
    "version": 3
   },
   "file_extension": ".py",
   "mimetype": "text/x-python",
   "name": "python",
   "nbconvert_exporter": "python",
   "pygments_lexer": "ipython3",
   "version": "3.12.4"
  }
 },
 "nbformat": 4,
 "nbformat_minor": 4
}
