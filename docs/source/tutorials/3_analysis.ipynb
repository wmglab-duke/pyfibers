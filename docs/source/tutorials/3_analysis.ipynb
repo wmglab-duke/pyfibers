{
 "cells": [
  {
   "cell_type": "markdown",
   "metadata": {},
   "source": [
    "# Analyzing Stimulation Results\n",
    "This tutorial will use the simulation results from the [finite amplitudes stimulation](1_finite_amp.ipynb) and [activation threshold search](2_activation_threshold.ipynb) tutorials. We will analyze the response of membrane voltage and gating variables to extracellular stimulation."
   ]
  },
  {
   "cell_type": "markdown",
   "metadata": {},
   "source": [
    "## Creating the fiber and setting up for simulation\n",
    "As before, we create fiber, waveform, potentials and stimulation object"
   ]
  },
  {
   "cell_type": "code",
   "execution_count": null,
   "metadata": {},
   "outputs": [],
   "source": [
    "import numpy as np\n",
    "from scipy.stats import norm\n",
    "from wmglab_neuron import build_fiber, FiberModel, ScaledStim\n",
    "\n",
    "# create fiber model\n",
    "n_sections = 133\n",
    "fiber = build_fiber(FiberModel.MRG_INTERPOLATION, diameter=5.7, n_sections=n_sections)\n",
    "\n",
    "# Setup for simulation\n",
    "waveform = np.concatenate((np.ones(200), -np.ones(200), np.zeros(49600)))\n",
    "\n",
    "fiber.potentials = norm.pdf(np.linspace(-1, 1, n_sections), 0, 0.05) * 100\n",
    "\n",
    "time_step = 0.001\n",
    "time_stop = 50\n",
    "\n",
    "# Create stimulation object\n",
    "stimulation = ScaledStim(waveform=waveform, dt=time_step, tstop=time_stop)"
   ]
  },
  {
   "cell_type": "markdown",
   "metadata": {},
   "source": [
    "## Running activation threshold search"
   ]
  },
  {
   "cell_type": "markdown",
   "metadata": {},
   "source": [
    "As before, we can simulate the response to a single stimulation pulse"
   ]
  },
  {
   "cell_type": "code",
   "execution_count": null,
   "metadata": {},
   "outputs": [],
   "source": [
    "ap, time = stimulation.run_sim(-1, fiber)\n",
    "print(f'Number of action potentials detected: {ap}')\n",
    "print(f'Time of last action potential detection: {time}')"
   ]
  },
  {
   "cell_type": "markdown",
   "metadata": {},
   "source": [
    "We didn't set the fiber to save any variables, so no membrane voltage or gating variable information was stored"
   ]
  },
  {
   "cell_type": "code",
   "execution_count": null,
   "metadata": {},
   "outputs": [],
   "source": [
    "# checks if the fiber object has the given attribute.\n",
    "print(hasattr(fiber, 'vm'), hasattr(fiber, 'gating'))"
   ]
  },
  {
   "cell_type": "markdown",
   "metadata": {},
   "source": [
    "Let's set the fiber to save both the membrane voltage, and the gating variables, and rerun the simulation."
   ]
  },
  {
   "cell_type": "code",
   "execution_count": null,
   "metadata": {},
   "outputs": [],
   "source": [
    "fiber.set_save_vm()  # save membrane voltage\n",
    "fiber.set_save_gating()  # save gating variables\n",
    "ap, time = stimulation.run_sim(-1, fiber)"
   ]
  },
  {
   "cell_type": "markdown",
   "metadata": {},
   "source": [
    "Now that we have saved membrane voltage and gating variables, let's take a look at them."
   ]
  },
  {
   "cell_type": "code",
   "execution_count": null,
   "metadata": {},
   "outputs": [],
   "source": [
    "print(fiber.vm)\n",
    "print(fiber.gating)"
   ]
  },
  {
   "cell_type": "markdown",
   "metadata": {},
   "source": [
    "We have a neuron `Vector` object for each node of the fiber. Notice that since, by default, fibers are created with passive end nodes, the first and last values are \"None\".\n",
    "\n",
    "Let's plot membrane voltage for an end compartment, and center compartment."
   ]
  },
  {
   "cell_type": "code",
   "execution_count": null,
   "metadata": {},
   "outputs": [],
   "source": [
    "import matplotlib.pyplot as plt\n",
    "import seaborn as sns\n",
    "\n",
    "sns.set(font_scale=1.5, style='whitegrid', palette='colorblind')\n",
    "\n",
    "plt.figure()\n",
    "plt.plot(np.array(stimulation.time)[:2000], list(fiber.vm[1])[:2000], label='end node')\n",
    "plt.plot(np.array(stimulation.time)[:2000], list(fiber.vm[6])[:2000], label='center node')\n",
    "plt.legend()\n",
    "plt.xlabel('Time (ms)')\n",
    "plt.ylabel('$V_m (mV)$')\n",
    "ax2 = plt.gca().twinx()\n",
    "ax2.plot(np.array(stimulation.time)[:2000], -waveform[:2000], 'r--', label='Stimulus')\n",
    "ax2.legend(loc=4)\n",
    "ax2.grid(False)\n",
    "plt.ylabel('Normalized stimulation amplitude')\n",
    "plt.show()"
   ]
  },
  {
   "cell_type": "markdown",
   "metadata": {},
   "source": [
    "We can plot a heatmap of the voltage across all compartments over time."
   ]
  },
  {
   "cell_type": "code",
   "execution_count": null,
   "metadata": {},
   "outputs": [],
   "source": [
    "import pandas as pd\n",
    "\n",
    "data = pd.DataFrame(np.array(fiber.vm[1:-1]))\n",
    "vrest = fiber[0].e_pas\n",
    "print('Membrane rest voltage:', vrest)\n",
    "g = sns.heatmap(\n",
    "    data,\n",
    "    cbar_kws={'label': '$V_m (mV)$'},\n",
    "    cmap='seismic',\n",
    "    vmax=np.amax(data.values) + vrest,\n",
    "    vmin=-np.amax(data.values) + vrest,\n",
    ")\n",
    "plt.xlim([0, 1000])\n",
    "plt.ylabel('Segment index')\n",
    "plt.xlabel('Time (ms)')\n",
    "tick_locs = np.linspace(0, len(np.array(stimulation.time)[:1000]), 9)\n",
    "labels = [round(np.array(stimulation.time)[int(ind)], 2) for ind in tick_locs]\n",
    "g.set_xticks(ticks=tick_locs, labels=labels)\n",
    "plt.title(\n",
    "    'Membrane voltage over time.\\\n",
    "          \\nRed=depolarized, Blue=hyperpolarized'\n",
    ")"
   ]
  },
  {
   "cell_type": "markdown",
   "metadata": {},
   "source": [
    "Running a threshold search will also save our variables. Let's try plotting vm at threshold."
   ]
  },
  {
   "cell_type": "code",
   "execution_count": null,
   "metadata": {},
   "outputs": [],
   "source": [
    "amp, ap = stimulation.find_threshold(fiber)\n",
    "print(f'Activation threshold: {amp} mA')"
   ]
  },
  {
   "cell_type": "code",
   "execution_count": null,
   "metadata": {},
   "outputs": [],
   "source": [
    "# plot vm\n",
    "plt.figure()\n",
    "plt.plot(np.array(stimulation.time)[:2000], list(fiber.vm[1])[:2000], label='end node')\n",
    "plt.plot(np.array(stimulation.time)[:2000], list(fiber.vm[6])[:2000], label='center node')\n",
    "plt.legend()\n",
    "plt.xlabel('Time (ms)')\n",
    "plt.ylabel('$V_m (mV)$')\n",
    "ax2 = plt.gca().twinx()\n",
    "ax2.plot(np.array(stimulation.time)[:2000], -waveform[:2000], 'r--', label='Stimulus')\n",
    "ax2.legend(loc=4)\n",
    "ax2.grid(False)\n",
    "plt.ylabel('Normalized stimulation amplitude')\n",
    "plt.show()\n",
    "# plot heatmap\n",
    "data = pd.DataFrame(np.array(fiber.vm[1:-1]))\n",
    "vrest = fiber[0].e_pas\n",
    "print('Membrane rest voltage:', vrest)\n",
    "g = sns.heatmap(\n",
    "    data,\n",
    "    cbar_kws={'label': '$V_m (mV)$'},\n",
    "    cmap='seismic',\n",
    "    vmax=np.amax(data.values) + vrest,\n",
    "    vmin=-np.amax(data.values) + vrest,\n",
    ")\n",
    "plt.xlim([0, 1000])\n",
    "tick_locs = np.linspace(0, len(np.array(stimulation.time)[:1000]), 9)\n",
    "labels = [round(np.array(stimulation.time)[int(ind)], 2) for ind in tick_locs]\n",
    "g.set_xticks(ticks=tick_locs, labels=labels)\n",
    "plt.ylabel('Segment index')\n",
    "plt.xlabel('Time (ms)')\n",
    "plt.title(\n",
    "    'Membrane voltage over time. \\\n",
    "          \\nRed=depolarized, Blue=hyperpolarized'\n",
    ")"
   ]
  },
  {
   "cell_type": "markdown",
   "metadata": {},
   "source": [
    "Finally, let's take a look at our gating variables"
   ]
  },
  {
   "cell_type": "code",
   "execution_count": null,
   "metadata": {},
   "outputs": [],
   "source": [
    "plt.figure()\n",
    "for var in fiber.gating:\n",
    "    plt.plot(np.array(stimulation.time)[:2000], list(fiber.gating[var][6])[:2000], label=var)\n",
    "plt.legend()\n",
    "plt.xlabel('Time step')\n",
    "plt.ylabel('variable value')\n",
    "plt.show()"
   ]
  }
 ],
 "metadata": {
  "kernelspec": {
   "display_name": "Python 3 (ipykernel)",
   "language": "python",
   "name": "python3"
  },
  "language_info": {
   "codemirror_mode": {
    "name": "ipython",
    "version": 3
   },
   "file_extension": ".py",
   "mimetype": "text/x-python",
   "name": "python",
   "nbconvert_exporter": "python",
   "pygments_lexer": "ipython3",
   "version": "3.10.8"
  }
 },
 "nbformat": 4,
 "nbformat_minor": 1
}
