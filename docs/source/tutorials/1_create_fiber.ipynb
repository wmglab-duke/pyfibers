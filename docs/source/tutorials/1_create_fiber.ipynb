{
 "cells": [
  {
   "cell_type": "markdown",
   "metadata": {},
   "source": [
    "# Creating a fiber\n",
    "In this tutorial we create a mammalian myelinated fiber model (i.e., MRG) with diameter of 10 µm using an instance of the `FiberModel` class.\n",
    "We can control the length of the fiber by either specifying one (and only one) of the following:\n",
    "- total number of sections (`n_sections`)\n",
    "- total number of nodes (`n_nodes`, where nodes are excitable sections that represent nodes of Ranvier)\n",
    "- length of the fiber in µm (`length`)"
   ]
  },
  {
   "cell_type": "markdown",
   "metadata": {},
   "source": [
    "We can see the available fiber models using the code below. This will include any plugins that have been installed. If you wish to create your own fiber model, see the [documentation on custom fiber models](../custom.md#how-to-create-a-new-fiber-model). Additionally, the implementation of our built-in fiber models are described in [implementations of fiber models](../fiber_models.md)."
   ]
  },
  {
   "cell_type": "code",
   "execution_count": null,
   "metadata": {},
   "outputs": [],
   "source": [
    "from pyfibers import FiberModel\n",
    "\n",
    "[FM.name for FM in FiberModel]"
   ]
  },
  {
   "cell_type": "markdown",
   "metadata": {},
   "source": [
    "We will select the `MRG_INTERPOLATION` model, and specify the number of nodes as 25."
   ]
  },
  {
   "cell_type": "code",
   "execution_count": null,
   "metadata": {},
   "outputs": [],
   "source": [
    "from pyfibers import build_fiber\n",
    "\n",
    "n_nodes = 25\n",
    "fiber = build_fiber(FiberModel.MRG_INTERPOLATION, diameter=10, n_nodes=n_nodes)"
   ]
  },
  {
   "cell_type": "markdown",
   "metadata": {},
   "source": [
    "This produces a fiber object that can be used to run simulations. See the [fiber api documentation](../autodoc/fiber.rst) for additional parameters for fiber creation (e.g., fiber temperature)."
   ]
  },
  {
   "cell_type": "code",
   "execution_count": null,
   "metadata": {},
   "outputs": [],
   "source": [
    "print(fiber)"
   ]
  },
  {
   "cell_type": "markdown",
   "metadata": {},
   "source": [
    "The spatial position of the fiber may or may not be of interest, depending on if/how you intend to apply extracellular potentials to the fiber (See [Extracellular potentials](../extracellular_potentials.md)). If the spatial position is of interest, it can be ascertained with fiber.coordinates, which returns the x,y,z coordinates of the center of each section in the fiber. By default, the fiber is positioned with one end at x=0, y=0, z=0 and extends in the positive z direction."
   ]
  },
  {
   "cell_type": "code",
   "execution_count": null,
   "metadata": {},
   "outputs": [],
   "source": [
    "import numpy as np\n",
    "\n",
    "np.set_printoptions(precision=2, suppress=True)\n",
    "print(fiber.coordinates)"
   ]
  },
  {
   "cell_type": "markdown",
   "metadata": {},
   "source": [
    "Note that this is distinct from fiber.longitudinal_coords, which is the arc length along the fiber at the center of each section. For a straight fiber, this is equal to the z coordinate. For 3D fibers (See [The 3D fiber tutorial](./8_fiber_paths_3d.ipynb)), this is not the case. The fiber position for straight fibers can be changed using fiber.set_xyz(x, y, z), which will set a x position, y position, and shift the z coordinates by a given amount."
   ]
  },
  {
   "cell_type": "code",
   "execution_count": null,
   "metadata": {},
   "outputs": [],
   "source": [
    "fiber.set_xyz(5, 10, -100)\n",
    "print(fiber.coordinates)"
   ]
  },
  {
   "cell_type": "markdown",
   "metadata": {},
   "source": [
    "Below we outline some additional methods which may be helpful in using a fiber."
   ]
  },
  {
   "cell_type": "markdown",
   "metadata": {},
   "source": [
    "## Magic Methods\n",
    "Our fiber object has a number of methods which can be used to simplify code."
   ]
  },
  {
   "cell_type": "markdown",
   "metadata": {},
   "source": [
    "### Indexing\n",
    "We can index into the fiber to access a particular node/section. Note that \"nodes\" refer to excitable sections, and not every section comprising the fiber. For more information, see *link to not yet created documentation page* \n",
    "%TODO probs need this docs page or link to manuscript"
   ]
  },
  {
   "cell_type": "code",
   "execution_count": null,
   "metadata": {},
   "outputs": [],
   "source": [
    "node = fiber[2]  # Accesses the node at index 2\n",
    "print(node)  # the number in the node name refers to the section index along the fiber"
   ]
  },
  {
   "cell_type": "markdown",
   "metadata": {},
   "source": [
    "### NEURON style indexing\n",
    "We can index to a node NEURON style by calling the fiber object. We can also use the `loc_index` method to get the *index* of a node using the same convention. Remember, the indexing uses the node index, but the name of the node object refers to its number in the list of sections comprising the fiber. We can instead search for locations and indices among all sections by using the `target=\"sections\"` arguments."
   ]
  },
  {
   "cell_type": "code",
   "execution_count": null,
   "metadata": {},
   "outputs": [],
   "source": [
    "# indexing among nodes\n",
    "node = fiber(0.9)\n",
    "print('Node at 90% fiber length:', node)\n",
    "ind = fiber.loc_index(0.9)\n",
    "print('Index of node at 90% fiber length:', ind)\n",
    "print('fiber[ind] is the same node?', fiber[ind] is node)\n",
    "\n",
    "# now indexing to sections (which includes all nodes)\n",
    "print()\n",
    "section = fiber(0.9, target='sections')\n",
    "print('Section at 90% along section list:', section)\n",
    "sec_ind = fiber.loc_index(0.9, target='sections')\n",
    "print('Index of section at 90% along section list:', sec_ind)\n",
    "print('fiber.sections[sec_ind] is the same section?', fiber.sections[sec_ind] is node)  # TODO fix this being incorrect"
   ]
  },
  {
   "cell_type": "markdown",
   "metadata": {},
   "source": [
    "### Iteration\n",
    "The fiber's nodes can be iterated over using a loop."
   ]
  },
  {
   "cell_type": "code",
   "execution_count": null,
   "metadata": {},
   "outputs": [],
   "source": [
    "for node in fiber:\n",
    "    print(node)"
   ]
  },
  {
   "cell_type": "markdown",
   "metadata": {},
   "source": [
    "### Membership\n",
    "We can check if a specific section object is part of the fiber. Note that nodes *are* part of the fiber's sections."
   ]
  },
  {
   "cell_type": "code",
   "execution_count": null,
   "metadata": {},
   "outputs": [],
   "source": [
    "node = fiber.nodes[0]\n",
    "section = fiber.sections[0]\n",
    "print(node in fiber)\n",
    "print(section in fiber)\n",
    "print(node in fiber.sections)\n",
    "print(section in fiber.sections)"
   ]
  },
  {
   "cell_type": "markdown",
   "metadata": {},
   "source": [
    "For an example of using this fiber in PyFibers' simulation code, see the next tutorial on [running a simulation and searching for activation threshold](2_sim_and_activation.ipynb). Additionally, you can use this fiber object in your own [custom simulation code](../custom.md#custom-simulations)."
   ]
  }
 ],
 "metadata": {
  "kernelspec": {
   "display_name": "base",
   "language": "python",
   "name": "python3"
  },
  "language_info": {
   "codemirror_mode": {
    "name": "ipython",
    "version": 3
   },
   "file_extension": ".py",
   "mimetype": "text/x-python",
   "name": "python",
   "nbconvert_exporter": "python",
   "pygments_lexer": "ipython3",
   "version": "3.12.3"
  }
 },
 "nbformat": 4,
 "nbformat_minor": 4
}
