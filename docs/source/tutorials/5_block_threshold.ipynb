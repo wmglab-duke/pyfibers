{
 "cells": [
  {
   "cell_type": "markdown",
   "metadata": {},
   "source": [
    "# Investigating Kilohertz (kHz) Frequency Stimulation Block\n",
    "This tutorial will use the fiber model created in the [finite amplitudes tutorial](1_finite_amp.ipynb) to run a bisection search for the fiber's block threshold (i.e, the minimum stimulation amplitude needed to stop the progression of a propagating action potential)."
   ]
  },
  {
   "cell_type": "markdown",
   "metadata": {},
   "source": [
    "## Create the fiber and set up simulation\n",
    "As before, we create a fiber and electrical potentials"
   ]
  },
  {
   "cell_type": "code",
   "execution_count": null,
   "metadata": {},
   "outputs": [],
   "source": [
    "import numpy as np\n",
    "import matplotlib.pyplot as plt\n",
    "\n",
    "import scipy.signal as sg\n",
    "from pyfibers import build_fiber, FiberModel, ScaledStim\n",
    "\n",
    "# create fiber model\n",
    "n_sections = 265\n",
    "fiber = build_fiber(FiberModel.MRG_INTERPOLATION, diameter=10, n_sections=n_sections)\n",
    "\n",
    "# define unscaled extracellular potentials (in response to a unitary current)\n",
    "fiber.potentials = fiber.point_source_potentials(0, 250, fiber.length / 2, 1, 10)\n",
    "plt.plot(fiber.longitudinal_coordinates, fiber.potentials)\n",
    "plt.xlabel('Distance along fiber (μm)')\n",
    "plt.ylabel('Electrical potential (mV)')\n",
    "plt.title('Extracellular potentials')\n",
    "\n",
    "# turn on saving of transmembrane potential (Vm) so that we can plot it later\n",
    "fiber.set_save_vm()"
   ]
  },
  {
   "cell_type": "markdown",
   "metadata": {},
   "source": [
    "We'll create a 20 kHz square wave, using a longer time step than the previous tutorials so we have time to observe the fiber's behavior before, during, and after block. We will set the block signal to only be on from t=50 to t=100 ms. Then we'll add our waveform to a new ScaledStim instance."
   ]
  },
  {
   "cell_type": "code",
   "execution_count": null,
   "metadata": {},
   "outputs": [],
   "source": [
    "# Setup for simulation\n",
    "time_step = 0.001  # ms\n",
    "time_stop = 150  # ms\n",
    "frequency = 20  # khz (because our time units are ms)\n",
    "\n",
    "# create time vector to make waveform with sg\n",
    "t = np.arange(0, time_stop, time_step)  # ms|\n",
    "waveform = sg.square(2 * np.pi * frequency * t)\n",
    "\n",
    "# blank out first and last thirds of simulation so we can see block turn on and off\n",
    "waveform[t <= 50] = 0\n",
    "waveform[t >= 100] = 0\n",
    "\n",
    "# Create stimulation object\n",
    "blockstim = ScaledStim(waveform=waveform, dt=time_step, tstop=time_stop)"
   ]
  },
  {
   "cell_type": "markdown",
   "metadata": {},
   "source": [
    "Let's plot the whole waveform, as well as the point where it turns on and off."
   ]
  },
  {
   "cell_type": "code",
   "execution_count": null,
   "metadata": {},
   "outputs": [],
   "source": [
    "# whole waveform (cannot see individual pulses)\n",
    "plt.plot(t, waveform)\n",
    "plt.xlim([0, 150])\n",
    "plt.xlabel('Time (ms)')\n",
    "plt.ylabel('Unscaled Stimulation Amplitude')\n",
    "plt.gcf().set_size_inches((10, 5))\n",
    "\n",
    "# create figure to show kilohertz waveform details (turning on and off)\n",
    "fig, ax = plt.subplots(1, 2, figsize=(10, 5), sharey=True)\n",
    "\n",
    "# zoom in: khz turning on\n",
    "ax[0].plot(t, waveform)\n",
    "ax[0].set_xlim([49.8, 50.2])\n",
    "ax[0].set_xlabel('Time (ms)\\n\\ntruncated x-limits to show waveform')\n",
    "ax[0].set_ylabel('Unscaled Stimulation Amplitude')\n",
    "\n",
    "# zoom in: khz turning off\n",
    "ax[1].plot(t, waveform)\n",
    "ax[1].set_xlim([99.8, 100.2])\n",
    "ax[1].set_xlabel('Time (ms)\\n\\ntruncated x-limits to show waveform')"
   ]
  },
  {
   "cell_type": "markdown",
   "metadata": {},
   "source": [
    "Let's try stimulating our fiber. We will use a stimulation amplitude low enough that the membrane voltage appears unaffected."
   ]
  },
  {
   "cell_type": "code",
   "execution_count": null,
   "metadata": {},
   "outputs": [],
   "source": [
    "ap, time = blockstim.run_sim(-0.5, fiber)"
   ]
  },
  {
   "cell_type": "markdown",
   "metadata": {},
   "source": [
    "Let's create a function to plot our response to the block waveform, which we'll use going forward. Go ahead and call it now to plot the fiber response."
   ]
  },
  {
   "cell_type": "code",
   "execution_count": null,
   "metadata": {},
   "outputs": [],
   "source": [
    "def block_plot():\n",
    "    \"\"\"Plot the response of a fiber to kHz stimulation.\"\"\"\n",
    "    # intracellular stimulation times, specific to the intracellular stimulation we will be adding to the blockstim\n",
    "    plt.figure(figsize=(10, 5))\n",
    "    ax = plt.gca()\n",
    "\n",
    "    ax.plot(blockstim.time, fiber.vm[fiber.loc_index(0.9)], label=r\"$V_m(t)$ at 90% fiber length\")\n",
    "\n",
    "    ax.set_xlabel('Time (ms)')\n",
    "    ax.set_ylabel('Transmembrane Potential (mV)')\n",
    "\n",
    "    ax.axvspan(50, 100, alpha=0.5, color='red', label='block on')\n",
    "\n",
    "    # label the intracellular stimulation with vertical black lines\n",
    "    if fiber.stim:\n",
    "        for istim_time in np.arange(15, 150, 10):\n",
    "            label = 'Intracellular stim' if istim_time == 15 else '__'\n",
    "            ax.axvline(x=istim_time, color='black', alpha=0.5, label=label, linestyle='--')\n",
    "\n",
    "    ax.legend(loc='upper right')\n",
    "    plt.xlim(-5, 155)\n",
    "\n",
    "\n",
    "block_plot()\n",
    "plt.ylim([-82, 20])"
   ]
  },
  {
   "cell_type": "markdown",
   "metadata": {},
   "source": [
    "## kHz Excitation (below block threshold)\n",
    "At higher stimulation amplitudes (but still below block threshold), the high frequency stimulation can cause repeated spiking. Let's turn up the stimulus and watch this happen"
   ]
  },
  {
   "cell_type": "code",
   "execution_count": null,
   "metadata": {},
   "outputs": [],
   "source": [
    "ap, time = blockstim.run_sim(-1.5, fiber)  # NOTE: could happen either above or below threshold\n",
    "block_plot()"
   ]
  },
  {
   "cell_type": "markdown",
   "metadata": {},
   "source": [
    "## Transmission (with onset response to kHz)\n",
    "We wanted to stop action potentials, but we are creating a ton of them! Let's try turning up the stimulation. You will see an onset response of spiking caused by the stimulation which fades after some time."
   ]
  },
  {
   "cell_type": "code",
   "execution_count": null,
   "metadata": {},
   "outputs": [],
   "source": [
    "ap, time = blockstim.run_sim(-2.5, fiber)\n",
    "block_plot()"
   ]
  },
  {
   "cell_type": "markdown",
   "metadata": {},
   "source": [
    "We need to know whether we are truly blocking. We have been recording from one end of the fiber (0.9). Let's add spiking activity to the other end of the fiber (0.1) At t=15 ms, the activity turns on and a spike occurs every 10 ms. Note that, as we saw in the plot of our extracellular potentials, stimulation is occurring in the center of the fiber (0.5).\n",
    "We will stimulate using the same amplitude as before."
   ]
  },
  {
   "cell_type": "code",
   "execution_count": null,
   "metadata": {},
   "outputs": [],
   "source": [
    "# add intrinsic activity, run with same khz amplitude as above plot\n",
    "# loc = 0.1 to avoid erroneous end  excitation\n",
    "fiber.add_intrinsic_activity(loc=0.1, start_time=15, avg_interval=10, num_stims=14)\n",
    "ap, time = blockstim.run_sim(-2.5, fiber)\n",
    "block_plot()"
   ]
  },
  {
   "cell_type": "markdown",
   "metadata": {},
   "source": [
    "This is called \"transmission\", where the action potentials continue unhindered down the axon.\n",
    "\n",
    "The action potential takes time to propagate from one end of the fiber to the other, hence the offset between intracellular stimulation pulses and recorded action potentials"
   ]
  },
  {
   "cell_type": "markdown",
   "metadata": {},
   "source": [
    "## kHz Block\n",
    "Finally, if we stimulate at an even higher level, we will observe a complete cessation of spike transmission after the block onset response fades."
   ]
  },
  {
   "cell_type": "code",
   "execution_count": null,
   "metadata": {},
   "outputs": [],
   "source": [
    "ap, time = blockstim.run_sim(-3, fiber)\n",
    "block_plot()"
   ]
  },
  {
   "cell_type": "markdown",
   "metadata": {},
   "source": [
    "## Search for kHz block threshold\n",
    "\n",
    "If we want to determine block threshold, we can use the find_threshold() method. \n",
    "This method returns the stimulation amplitude at which the fiber begins to activate, \n",
    "and the number of generated action potentials. We can plot the response of the membrane potential, and gating variables threshold stimulation.\n",
    "\n",
    "This uses the same algorithm as a search for activation threshold, but suprathreshold stimulation is considered the absence, rather than presence of detected action potentials. Thus, intracellular stimulation is key to determining subthreshold stimulation.\n",
    "\n",
    "The 'block_delay' parameter defines when the function will start looking for action potentials to evaluate whether transmission is occurring. This should be far enough after block turns on to avoid any false positives due to onset response. We will also truncate the end of the simulation so that it ends when block turns off."
   ]
  },
  {
   "cell_type": "code",
   "execution_count": null,
   "metadata": {},
   "outputs": [],
   "source": [
    "from pyfibers import ThresholdCondition\n",
    "\n",
    "# Stop simulation when block turns off\n",
    "blockstim.tstop = 100\n",
    "\n",
    "# stimamp_top (#) and stimamp_bottom (#) shown to be\n",
    "# above and below block threshold, respectively, in previous cells\n",
    "amp, _ = blockstim.find_threshold(\n",
    "    fiber, condition=ThresholdCondition.BLOCK, stimamp_top=-3, stimamp_bottom=-2, exit_t_shift=None, block_delay=65\n",
    ")\n",
    "print(f'Block threshold: {amp} mA')\n",
    "block_plot()"
   ]
  },
  {
   "cell_type": "markdown",
   "metadata": {},
   "source": [
    "## Re-excitation\n",
    "It is important to be careful with the upper bound for your block threshold search, as \"re-excitation\" can occur at suprathreshold stimulation amplitudes. Thus, it is usually safer to set your initial search bounds subthreshold, to avoid any risk of starting with a top bound that causes re-excitation. "
   ]
  },
  {
   "cell_type": "code",
   "execution_count": null,
   "metadata": {},
   "outputs": [],
   "source": [
    "blockstim.tstop = 150\n",
    "ap, time = blockstim.run_sim(-250, fiber)  # NOTE: could happen either above or below threshold\n",
    "block_plot()"
   ]
  }
 ],
 "metadata": {
  "kernelspec": {
   "display_name": "Python 3 (ipykernel)",
   "language": "python",
   "name": "python3"
  },
  "language_info": {
   "codemirror_mode": {
    "name": "ipython",
    "version": 3
   },
   "file_extension": ".py",
   "mimetype": "text/x-python",
   "name": "python",
   "nbconvert_exporter": "python",
   "pygments_lexer": "ipython3",
   "version": "3.11.9"
  }
 },
 "nbformat": 4,
 "nbformat_minor": 4
}
