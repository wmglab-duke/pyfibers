{
 "cells": [
  {
   "cell_type": "markdown",
   "metadata": {},
   "source": [
    "# Running an activation threshold search\n",
    "This tutorial will use the fiber model created in the [finite amplitudes tutorial](1_finite_amp.ipynb) to run a bisection search for the fiber's activation threshold (i.e, minimum stimulation ampltude to generate an action potential)."
   ]
  },
  {
   "cell_type": "markdown",
   "metadata": {},
   "source": [
    "## Creating the fiber and setting up for simulation\n",
    "As before, we create fiber, waveform, potentials and stimulation object"
   ]
  },
  {
   "cell_type": "code",
   "execution_count": null,
   "metadata": {},
   "outputs": [],
   "source": [
    "import numpy as np\n",
    "from scipy.stats import norm\n",
    "from wmglab_neuron import FiberBuilder, FiberModel, Stimulation\n",
    "\n",
    "# Create fiber object\n",
    "n_sections = 133\n",
    "fiber = FiberBuilder.generate(FiberModel.MRG_INTERPOLATION, diameter=5.7, n_sections=n_sections)\n",
    "\n",
    "# Setup for simulation\n",
    "waveform = np.concatenate((np.ones(200), -np.ones(200), np.zeros(49600)))\n",
    "\n",
    "potentials = norm.pdf(np.linspace(-1, 1, n_sections), 0, 0.05) * 100\n",
    "\n",
    "time_step = 0.001\n",
    "time_stop = 50\n",
    "\n",
    "# Create stimulation object\n",
    "stimulation = Stimulation(fiber, waveform=waveform, potentials=potentials, dt=time_step, tstop=time_stop)"
   ]
  },
  {
   "cell_type": "markdown",
   "metadata": {},
   "source": [
    "## Running activation threshold search"
   ]
  },
  {
   "cell_type": "markdown",
   "metadata": {},
   "source": [
    "As before, we can simulate the response to a single stimulation pulse"
   ]
  },
  {
   "cell_type": "code",
   "execution_count": null,
   "metadata": {},
   "outputs": [],
   "source": [
    "ap, time = stimulation.run_sim(-1)\n",
    "print(f'Number of action potentials detected: {ap}')\n",
    "print(f'Time of last action potential detection: {time}')"
   ]
  },
  {
   "cell_type": "markdown",
   "metadata": {},
   "source": [
    "If we want to determine the activation thresholds, we can use the `find_threshold()` method.\n",
    "This method returns the stimulation amplitude at which the fiber begins to activate, and the number of generated action potentials.\n",
    "\n",
    "For more information on parameters, see docs here\n",
    "\n",
    "For more information on bisection search, see docs here"
   ]
  },
  {
   "cell_type": "code",
   "execution_count": null,
   "metadata": {},
   "outputs": [],
   "source": [
    "amp, ap = stimulation.find_threshold()\n",
    "print(f'Activation threshold: {amp} mA')"
   ]
  },
  {
   "cell_type": "markdown",
   "metadata": {},
   "source": [
    "See also the tutorial for [analyzing results](3_analysis.ipynb)."
   ]
  }
 ],
 "metadata": {
  "kernelspec": {
   "display_name": "Python 3 (ipykernel)",
   "language": "python",
   "name": "python3"
  },
  "language_info": {
   "codemirror_mode": {
    "name": "ipython",
    "version": 3
   },
   "file_extension": ".py",
   "mimetype": "text/x-python",
   "name": "python",
   "nbconvert_exporter": "python",
   "pygments_lexer": "ipython3",
   "version": "3.10.8"
  }
 },
 "nbformat": 4,
 "nbformat_minor": 1
}
