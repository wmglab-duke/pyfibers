{
 "cells": [
  {
   "cell_type": "markdown",
   "metadata": {},
   "source": [
    "# Search for activation threshold\n",
    "This tutorial will use the fiber model created in the [finite amplitudes tutorial](1_finite_amp.ipynb) to run a bisection search for the fiber's activation threshold (i.e, minimum stimulation ampltude needed to generate an action potential)."
   ]
  },
  {
   "cell_type": "markdown",
   "metadata": {},
   "source": [
    "## Create the fiber and set up simulation\n",
    "As before, we create fiber, waveform, potentials and stimulation object."
   ]
  },
  {
   "cell_type": "code",
   "execution_count": null,
   "metadata": {},
   "outputs": [],
   "source": [
    "import numpy as np\n",
    "from pyfibers import build_fiber, FiberModel, ScaledStim\n",
    "\n",
    "# create fiber model\n",
    "n_sections = 265\n",
    "fiber = build_fiber(FiberModel.MRG_INTERPOLATION, diameter=10, n_sections=n_sections)\n",
    "\n",
    "# Setup for simulation\n",
    "waveform = np.concatenate((np.ones(100), -np.ones(100), np.zeros(49800)))  # biphasic rectangular pulse\n",
    "\n",
    "fiber.potentials = fiber.point_source_potentials(0, 250, fiber.length / 2, 1, 10)\n",
    "\n",
    "time_step = 0.001\n",
    "time_stop = 50\n",
    "\n",
    "# Create stimulation object\n",
    "stimulation = ScaledStim(waveform=waveform, dt=time_step, tstop=time_stop)"
   ]
  },
  {
   "cell_type": "markdown",
   "metadata": {},
   "source": [
    "## Run search for activation threshold"
   ]
  },
  {
   "cell_type": "markdown",
   "metadata": {},
   "source": [
    "As before, we can simulate the response to a single stimulation pulse:"
   ]
  },
  {
   "cell_type": "code",
   "execution_count": null,
   "metadata": {},
   "outputs": [],
   "source": [
    "ap, time = stimulation.run_sim(-1.5, fiber)\n",
    "print(f'Number of action potentials detected: {ap}')\n",
    "print(f'Time of last action potential detection: {time} ms')"
   ]
  },
  {
   "cell_type": "markdown",
   "metadata": {},
   "source": [
    "If we want to determine the activation thresholds, we can use the `find_threshold()` method.\n",
    "This method returns the stimulation amplitude at which the fiber begins to activate, and the number of generated action potentials. The threshold amplitude is calculated using a bisection search *link to info*.\n",
    "\n",
    "For more information on parameters, see the [ScaledStim Documentation](../autodoc/stimulation.rst)"
   ]
  },
  {
   "cell_type": "code",
   "execution_count": null,
   "metadata": {},
   "outputs": [],
   "source": [
    "amp, ap = stimulation.find_threshold(fiber)\n",
    "print(f'Activation threshold: {amp} mA')"
   ]
  },
  {
   "cell_type": "markdown",
   "metadata": {},
   "source": [
    "See also the tutorial for [analyzing results](3_analysis.ipynb)."
   ]
  }
 ],
 "metadata": {
  "kernelspec": {
   "display_name": "Python 3 (ipykernel)",
   "language": "python",
   "name": "python3"
  },
  "language_info": {
   "codemirror_mode": {
    "name": "ipython",
    "version": 3
   },
   "file_extension": ".py",
   "mimetype": "text/x-python",
   "name": "python",
   "nbconvert_exporter": "python",
   "pygments_lexer": "ipython3",
   "version": "3.10.8"
  }
 },
 "nbformat": 4,
 "nbformat_minor": 1
}
