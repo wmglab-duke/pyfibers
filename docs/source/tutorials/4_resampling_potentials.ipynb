{
 "cells": [
  {
   "cell_type": "markdown",
   "metadata": {},
   "source": [
    "# Resampling high-resolution potentials\n",
    "Sometimes you may want to sample potentials agnostic to the final fiber compartment coordinates (e.g., model several fibers along the same trajectory with different diameters, ultrastructure, or membrane mechanisms). This tutorial details how to resample these potentials to match the coordinates of a specific fiber.\n",
    "\n",
    "Note: this tutorial will use a lot of code explained in the [finite amplitudes tutorial](1_finite_amp.ipynb), so it is recommended to review that before proceeding."
   ]
  },
  {
   "cell_type": "markdown",
   "metadata": {},
   "source": [
    "## Generate high-resolution potentials\n",
    "This tutorial provides an example of repurposing electrical potentials that were sampled at high spatial resolution. Users may use external softwares to calculate extracellular potentials (e.g., COMSOL, ANSYS). In this example we will use a gaussian distribution with 5 um spacing between coordinates.\n",
    "\n",
    "Note: the spacing does not have to be uniform, but the distance between consective points must be suffieciently small to not affect your simulation results. Your coordinates must be one-dimensional along the length of the fiber. If your coordinates are three dimensional, you can use a function such as `scipy.spatial.distance.euclidean` to calculate the arc-length between each coordinate."
   ]
  },
  {
   "cell_type": "code",
   "execution_count": null,
   "metadata": {},
   "outputs": [],
   "source": [
    "from scipy.stats import norm\n",
    "import numpy as np\n",
    "import matplotlib.pyplot as plt\n",
    "\n",
    "n_coords = 100000\n",
    "\n",
    "supersampled_potentials = norm.pdf(np.linspace(-1, 1, n_coords), 0, 0.05) * 10\n",
    "coords = np.cumsum([1] * n_coords)\n",
    "\n",
    "plt.scatter(coords, supersampled_potentials)\n",
    "plt.title('Extracellular potentials')\n",
    "plt.xlabel('Position along fiber (\\u03bcm)')\n",
    "plt.ylabel('Potential (mV)')\n",
    "plt.show()"
   ]
  },
  {
   "cell_type": "markdown",
   "metadata": {},
   "source": [
    "## Create a fiber\n",
    "For this tutorial, we will create a fiber model using the MRG model using the same process as the [finite amplitudes tutorial](1_finite_amp.ipynb). Instead of specifying the number of coordinates, we will specify the length of our fiber as the length of our super-sampled fiber coordinates. "
   ]
  },
  {
   "cell_type": "code",
   "execution_count": null,
   "metadata": {},
   "outputs": [],
   "source": [
    "from pyfibers import build_fiber, FiberModel\n",
    "\n",
    "fiber_length = np.amax(coords) - np.amin(coords)\n",
    "\n",
    "fiber = build_fiber(FiberModel.MRG_INTERPOLATION, diameter=10, length=fiber_length)\n",
    "print(fiber)"
   ]
  },
  {
   "cell_type": "markdown",
   "metadata": {},
   "source": [
    "To obtain potential values at the center of each fiber compartment, we must resample our high-resolution \"super samples\" potentials. We can use the `resample_potentials()` method of the fiber object to do this."
   ]
  },
  {
   "cell_type": "code",
   "execution_count": null,
   "metadata": {},
   "outputs": [],
   "source": [
    "fiber.potentials = fiber.resample_potentials(supersampled_potentials, coords)\n",
    "\n",
    "plt.scatter(fiber.coordinates, fiber.potentials)\n",
    "plt.title('Extracellular potentials')\n",
    "plt.xlabel('Position along fiber (um)')\n",
    "plt.ylabel('Potential (mV)')\n",
    "plt.show()"
   ]
  },
  {
   "cell_type": "markdown",
   "metadata": {},
   "source": [
    "Our potentials are not centered on the fiber. By default, the resampling occurs with the zero point of the supersampled potentials and the fiber aligned. We can center the fiber along the supersampled path by setting `center=True`. We can also have the potentials replace the current ones automatically with `inplace=True`."
   ]
  },
  {
   "cell_type": "code",
   "execution_count": null,
   "metadata": {},
   "outputs": [],
   "source": [
    "fiber.resample_potentials(supersampled_potentials, coords, center=True, inplace=True)\n",
    "\n",
    "plt.scatter(fiber.coordinates, fiber.potentials)\n",
    "plt.title('Extracellular potentials')\n",
    "plt.xlabel('Position along fiber (um)')\n",
    "plt.ylabel('Potential (mV)')\n",
    "plt.show()"
   ]
  },
  {
   "cell_type": "markdown",
   "metadata": {},
   "source": [
    "## Simulation\n",
    "As before, we will create a biphasic stimulation waveform."
   ]
  },
  {
   "cell_type": "code",
   "execution_count": null,
   "metadata": {
    "pycharm": {
     "is_executing": true
    }
   },
   "outputs": [],
   "source": [
    "waveform = np.concatenate((np.ones(100), -np.ones(100), np.zeros(49800)))\n",
    "\n",
    "plt.plot(waveform[:1000])\n",
    "plt.title('Stimulation waveform')\n",
    "plt.xlabel('Time step')\n",
    "plt.ylabel('Normalized Amplitude')\n",
    "plt.show()"
   ]
  },
  {
   "cell_type": "markdown",
   "metadata": {},
   "source": [
    "and then run a fixed amplitude simulation:"
   ]
  },
  {
   "cell_type": "code",
   "execution_count": null,
   "metadata": {},
   "outputs": [],
   "source": [
    "from pyfibers import ScaledStim\n",
    "\n",
    "time_step = 0.005  # milliseconds\n",
    "time_stop = 20  # milliseconds\n",
    "\n",
    "# Create instance of Stimulation class\n",
    "stimulation = ScaledStim(waveform=waveform, dt=time_step, tstop=time_stop)\n",
    "\n",
    "ap, time = stimulation.run_sim(-1.5, fiber)\n",
    "print(f'Number of action potentials detected: {ap}')\n",
    "print(f'Time of last action potential detection: {time} ms')"
   ]
  }
 ],
 "metadata": {
  "kernelspec": {
   "display_name": "Python 3 (ipykernel)",
   "language": "python",
   "name": "python3"
  },
  "language_info": {
   "codemirror_mode": {
    "name": "ipython",
    "version": 3
   },
   "file_extension": ".py",
   "mimetype": "text/x-python",
   "name": "python",
   "nbconvert_exporter": "python",
   "pygments_lexer": "ipython3",
   "version": "3.10.8"
  }
 },
 "nbformat": 4,
 "nbformat_minor": 1
}
