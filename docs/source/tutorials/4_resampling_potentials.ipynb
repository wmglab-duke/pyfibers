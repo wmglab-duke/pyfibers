{
 "cells": [
  {
   "cell_type": "markdown",
   "metadata": {},
   "source": [
    "# Resampling high-resolution potentials\n",
    "Sometimes you may want to sample potentials agnostic to the final fiber compartment coordinates, or use the same fiber path to construct several fibers with different diameters or models. This tutorial details how to resample these potentials to match the coordinates of a specific fiber.  Note: this tutorial will use a lot of code explained in the [finite amplitudes tutorial](1_finite_amp.ipynb), so it is recommended to review that before coming here."
   ]
  },
  {
   "cell_type": "markdown",
   "metadata": {},
   "source": [
    "## Generating high-resolution potentials\n",
    "This tutorial provides a mock example where you have solved for electrical potentials in an external software and sampled at high resolution. In this example we will use a gaussian distribution with 5 um spacing between coordinates (Note: the spacing does not have to be uniform, but this is recommended). Your coordinates must be one-dimensional along the length of the fiber. If your coordinates are three dimensional, you can use a function such as `scipy.spatial.distance.euclidean` to calculate the arc-length between each coordinate."
   ]
  },
  {
   "cell_type": "code",
   "execution_count": null,
   "metadata": {},
   "outputs": [],
   "source": [
    "from scipy.stats import norm\n",
    "import numpy as np\n",
    "import matplotlib.pyplot as plt\n",
    "\n",
    "n_coords = 5000\n",
    "\n",
    "supersampled_potentials = norm.pdf(np.linspace(-1, 1, n_coords), 0, 0.05) * 100\n",
    "coords = np.cumsum([1] * n_coords)\n",
    "\n",
    "plt.scatter(coords, supersampled_potentials)\n",
    "plt.title('Extracellular potentials')\n",
    "plt.xlabel('Position along fiber (um)')\n",
    "plt.ylabel('Potential (mV)')\n",
    "plt.show()"
   ]
  },
  {
   "cell_type": "markdown",
   "metadata": {},
   "source": [
    "## Creating a fiber\n",
    "For this tutorial, we will create a fiber model using the MRG model with interpolation using the same process as the [finite amplitudes tutorial](1_finite_amp.ipynb). Instead of specifying the number of coordinates, we will specify the length of our fiber as the length of our super-sampled fiber coordinates. "
   ]
  },
  {
   "cell_type": "code",
   "execution_count": null,
   "metadata": {},
   "outputs": [],
   "source": [
    "from wmglab_neuron import build_fiber, FiberModel\n",
    "\n",
    "fiber_length = np.amax(coords) - np.amin(coords)\n",
    "\n",
    "fiber = build_fiber(FiberModel.MRG_INTERPOLATION, diameter=5.7, length=fiber_length)\n",
    "print(fiber)"
   ]
  },
  {
   "cell_type": "markdown",
   "metadata": {},
   "source": [
    "To obtain potential values at the center of each fiber compartment, we must resample our high-resolution \"super samples\" potentials. We can use the `resample_potentials()` method of the fiber object to do this."
   ]
  },
  {
   "cell_type": "code",
   "execution_count": null,
   "metadata": {},
   "outputs": [],
   "source": [
    "fiber.potentials = fiber.resample_potentials(supersampled_potentials, coords)\n",
    "\n",
    "plt.scatter(fiber.coordinates, fiber.potentials)\n",
    "plt.title('Extracellular potentials')\n",
    "plt.xlabel('Position along fiber (um)')\n",
    "plt.ylabel('Potential (mV)')\n",
    "plt.show()"
   ]
  },
  {
   "cell_type": "markdown",
   "metadata": {},
   "source": [
    "Our potentials are not centered on the fiber. By default, the resampling occurs with the zero point of the supersampled potentials and the fiber aligned. We can center the fiber along the supersampled path by setting `center=True`."
   ]
  },
  {
   "cell_type": "code",
   "execution_count": null,
   "metadata": {},
   "outputs": [],
   "source": [
    "fiber_potentials = fiber.resample_potentials(supersampled_potentials, coords, center=True)\n",
    "\n",
    "plt.scatter(fiber.coordinates, fiber.potentials)\n",
    "plt.title('Extracellular potentials')\n",
    "plt.xlabel('Position along fiber (um)')\n",
    "plt.ylabel('Potential (mV)')\n",
    "plt.show()"
   ]
  },
  {
   "cell_type": "markdown",
   "metadata": {},
   "source": [
    "## Simulation\n",
    "As before, we will create a biphasic stimulation waveform."
   ]
  },
  {
   "cell_type": "code",
   "execution_count": null,
   "metadata": {
    "pycharm": {
     "is_executing": true
    }
   },
   "outputs": [],
   "source": [
    "waveform = np.concatenate((np.ones(200), -np.ones(200), np.zeros(49600)))\n",
    "\n",
    "plt.plot(waveform[:1000])\n",
    "plt.title('Stimulation waveform')\n",
    "plt.xlabel('Time step')\n",
    "plt.ylabel('Normalized Amplitude')\n",
    "plt.show()"
   ]
  },
  {
   "cell_type": "markdown",
   "metadata": {},
   "source": [
    "and then run a fixed amplitude simulation:"
   ]
  },
  {
   "cell_type": "code",
   "execution_count": null,
   "metadata": {},
   "outputs": [],
   "source": [
    "from wmglab_neuron import ScaledStim\n",
    "\n",
    "time_step = 0.001  # milliseconds\n",
    "time_stop = 50  # milliseconds\n",
    "\n",
    "# Create instance of Stimulation class\n",
    "stimulation = ScaledStim(waveform=waveform, dt=time_step, tstop=time_stop)\n",
    "\n",
    "ap, time = stimulation.run_sim(-1, fiber)\n",
    "print(f'Number of action potentials detected: {ap}')\n",
    "print(f'Time of last action potential detection: {time}')"
   ]
  }
 ],
 "metadata": {
  "kernelspec": {
   "display_name": "Python 3 (ipykernel)",
   "language": "python",
   "name": "python3"
  },
  "language_info": {
   "codemirror_mode": {
    "name": "ipython",
    "version": 3
   },
   "file_extension": ".py",
   "mimetype": "text/x-python",
   "name": "python",
   "nbconvert_exporter": "python",
   "pygments_lexer": "ipython3",
   "version": "3.10.8"
  }
 },
 "nbformat": 4,
 "nbformat_minor": 1
}
