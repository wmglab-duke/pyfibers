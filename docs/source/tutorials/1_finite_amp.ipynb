{
 "cells": [
  {
   "cell_type": "markdown",
   "metadata": {},
   "source": [
    "# Creating a fiber and running a simulation\n",
    "This tutorial will go over the basics of using wmglab-neuron to create a NEURON model of a peripheral nerve axon (fiber), creating a stimulation waveform, and running a simulation of the fiber's response to the stimulation."
   ]
  },
  {
   "cell_type": "markdown",
   "metadata": {},
   "source": [
    "## Creating a fiber\n",
    "For this tutorial, we will create a fiber model using the MRG model with interpolation. We will also specify the diameter of the fiber to be 5.7 microns.\n",
    "The `FiberModel` class is used to create a fiber model based on the parameters you specify.\n",
    "We can determine the length of a fiber by either specifying the number of sections (in which case the length will be calculated), or the length of the fiber in microns (in which case the number of sections will be calculated).\n",
    "\n",
    "\n",
    "see documentation on fiber models for more information on the different models and their parameters"
   ]
  },
  {
   "cell_type": "code",
   "execution_count": null,
   "metadata": {},
   "outputs": [],
   "source": [
    "from wmglab_neuron import FiberBuilder, FiberModel\n",
    "\n",
    "n_sections = 133\n",
    "fiber = FiberBuilder.generate(FiberModel.MRG_INTERPOLATION, diameter=5.7, n_sections=n_sections)"
   ]
  },
  {
   "cell_type": "markdown",
   "metadata": {},
   "source": [
    "This produces a fiber object that can be used to run simulations."
   ]
  },
  {
   "cell_type": "code",
   "execution_count": null,
   "metadata": {},
   "outputs": [],
   "source": [
    "print(fiber)\n",
    "# TODO: add a block going over use of magic methods"
   ]
  },
  {
   "cell_type": "markdown",
   "metadata": {},
   "source": [
    "## Simulation setup"
   ]
  },
  {
   "cell_type": "markdown",
   "metadata": {},
   "source": [
    "Before we can run a simulation, we need to create a stimulation waveform. We will use a biphasic square wave for this tutorial.\n",
    "\n",
    "See documentation on stimulation waveforms for more information on creating different waveforms."
   ]
  },
  {
   "cell_type": "code",
   "execution_count": null,
   "metadata": {},
   "outputs": [],
   "source": [
    "import numpy as np\n",
    "\n",
    "waveform = np.concatenate((np.ones(200), -np.ones(200), np.zeros(49600)))"
   ]
  },
  {
   "cell_type": "markdown",
   "metadata": {},
   "source": [
    "Let's plot the waveform to see what it looks like."
   ]
  },
  {
   "cell_type": "code",
   "execution_count": null,
   "metadata": {
    "pycharm": {
     "is_executing": true
    }
   },
   "outputs": [],
   "source": [
    "import matplotlib.pyplot as plt\n",
    "\n",
    "plt.plot(waveform[:1000])\n",
    "plt.title('Stimulation waveform')\n",
    "plt.xlabel('Time step')\n",
    "plt.ylabel('Normalized Amplitude')\n",
    "plt.show()"
   ]
  },
  {
   "cell_type": "markdown",
   "metadata": {},
   "source": [
    "We also need extracellular potentials along the fiber. We will use a normal distribution for this tutorial. Our fiber has 133 sections, so we will create 133 potentials.\n",
    "\n",
    "See documentation on extracellular potentials for more information on extracellular potentials."
   ]
  },
  {
   "cell_type": "code",
   "execution_count": null,
   "metadata": {},
   "outputs": [],
   "source": [
    "from scipy.stats import norm\n",
    "\n",
    "potentials = norm.pdf(np.linspace(-1, 1, n_sections), 0, 0.05) * 100\n",
    "\n",
    "plt.plot(potentials)\n",
    "plt.title('Extracellular potentials')\n",
    "plt.xlabel('Fiber section')\n",
    "plt.ylabel('Potential (mV)')\n",
    "plt.show()\n",
    "# todo change to be from a point source"
   ]
  },
  {
   "cell_type": "markdown",
   "metadata": {},
   "source": [
    "## Running a simulation"
   ]
  },
  {
   "cell_type": "markdown",
   "metadata": {},
   "source": [
    "Let's specify our simulation parameters."
   ]
  },
  {
   "cell_type": "code",
   "execution_count": null,
   "metadata": {},
   "outputs": [],
   "source": [
    "time_step = 0.001  # milliseconds\n",
    "time_stop = 50  # milliseconds"
   ]
  },
  {
   "cell_type": "markdown",
   "metadata": {},
   "source": [
    "To run a simulation, we need to create an instance of the Stimulation class. This class is used to run simulations of a fiber's response to a stimulation waveform."
   ]
  },
  {
   "cell_type": "code",
   "execution_count": null,
   "metadata": {},
   "outputs": [],
   "source": [
    "from wmglab_neuron import Stimulation\n",
    "\n",
    "# Create instance of Stimulation class\n",
    "stimulation = Stimulation(fiber, waveform=waveform, potentials=potentials, dt=time_step, tstop=time_stop)\n",
    "print(stimulation)"
   ]
  },
  {
   "cell_type": "markdown",
   "metadata": {},
   "source": [
    "We can use the `run_sim()` method to run a simulation. By default, this monitors for action potentials at the distal end of the fiber. `run_sim()` returns the number of detected action potentials and the time of the last action potential."
   ]
  },
  {
   "cell_type": "code",
   "execution_count": null,
   "metadata": {},
   "outputs": [],
   "source": [
    "# TODO: details about scaling by unit stimulus (1mA) and polarity\n",
    "ap, time = stimulation.run_sim(-1)\n",
    "print(f'Number of action potentials detected: {ap}')\n",
    "print(f'Time of last action potential detection: {time}')"
   ]
  },
  {
   "cell_type": "markdown",
   "metadata": {},
   "source": [
    "See also the tutorial for [analyzing results](3_analysis.ipynb)."
   ]
  }
 ],
 "metadata": {
  "kernelspec": {
   "display_name": "Python 3 (ipykernel)",
   "language": "python",
   "name": "python3"
  },
  "language_info": {
   "codemirror_mode": {
    "name": "ipython",
    "version": 3
   },
   "file_extension": ".py",
   "mimetype": "text/x-python",
   "name": "python",
   "nbconvert_exporter": "python",
   "pygments_lexer": "ipython3",
   "version": "3.10.8"
  }
 },
 "nbformat": 4,
 "nbformat_minor": 1
}
