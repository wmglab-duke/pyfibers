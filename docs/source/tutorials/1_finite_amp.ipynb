{
 "cells": [
  {
   "cell_type": "markdown",
   "metadata": {},
   "source": [
    "# Creating a fiber and running a simulation\n",
    "This tutorial goes over the basics of using wmglab-neuron to create and simulate the response of a NEURON model of a peripheral nerve axon (\"fiber\") in response to a time-varying stimulation waveform."
   ]
  },
  {
   "cell_type": "markdown",
   "metadata": {},
   "source": [
    "## Creating a fiber\n",
    "In this tutorial we create a mammalian myelinated fiber model (i.e., MRG) with diameter of 10 µm using an instance of the `FiberModel` class.\n",
    "We can control the length of the fiber by either specifying the total number of sections (in which case the length will be calculated based on the ultrastructure of the MRG model), or the length of the fiber in µm (in which case the number of sections will be calculated based on the ultrastructure of the MRG model).\n",
    "\n",
    "\n",
    "See our documentation for more information on how to define other fiber models."
   ]
  },
  {
   "cell_type": "code",
   "execution_count": null,
   "metadata": {},
   "outputs": [],
   "source": [
    "from wmglab_neuron import build_fiber, FiberModel\n",
    "\n",
    "n_sections = 265\n",
    "fiber = build_fiber(FiberModel.MRG_INTERPOLATION, diameter=10, n_sections=n_sections)"
   ]
  },
  {
   "cell_type": "markdown",
   "metadata": {},
   "source": [
    "This produces a fiber object that can be used to run simulations."
   ]
  },
  {
   "cell_type": "code",
   "execution_count": null,
   "metadata": {},
   "outputs": [],
   "source": [
    "print(fiber)"
   ]
  },
  {
   "cell_type": "markdown",
   "metadata": {},
   "source": [
    "## Magic Methods\n",
    "TODO"
   ]
  },
  {
   "cell_type": "code",
   "execution_count": null,
   "metadata": {},
   "outputs": [],
   "source": [
    "# TODO"
   ]
  },
  {
   "cell_type": "markdown",
   "metadata": {},
   "source": [
    "## Simulation setup"
   ]
  },
  {
   "cell_type": "markdown",
   "metadata": {},
   "source": [
    "Before we can run a simulation, we need to create a stimulation waveform (i.e., I(t), the time-course of the extracellular stimulation). We use a biphasic rectangular pulse in this tutorial.\n",
    "\n",
    "See documentation on stimulation waveforms for more information on creating different waveforms."
   ]
  },
  {
   "cell_type": "code",
   "execution_count": null,
   "metadata": {},
   "outputs": [],
   "source": [
    "import numpy as np\n",
    "\n",
    "waveform = np.concatenate((np.ones(100), -np.ones(100), np.zeros(49800)))"
   ]
  },
  {
   "cell_type": "markdown",
   "metadata": {},
   "source": [
    "Plot the waveform to see what it looks like."
   ]
  },
  {
   "cell_type": "code",
   "execution_count": null,
   "metadata": {
    "pycharm": {
     "is_executing": true
    }
   },
   "outputs": [],
   "source": [
    "import matplotlib.pyplot as plt\n",
    "\n",
    "plt.plot(waveform[:1000])\n",
    "plt.title('Stimulation waveform')\n",
    "plt.xlabel('Time step index')\n",
    "plt.ylabel('Normalized Amplitude')\n",
    "plt.show()"
   ]
  },
  {
   "cell_type": "markdown",
   "metadata": {},
   "source": [
    "We also need extracellular potentials along the length of the fiber. We will use an extracellular point source for this tutorial, 250 microns from the fiber, positioned over its center. Our fiber has 265 sections, so we need 265 potentials (i.e., one for the middle of each section).\n",
    "\n",
    "See our documentation on extracellular potentials for more information."
   ]
  },
  {
   "cell_type": "code",
   "execution_count": null,
   "metadata": {},
   "outputs": [],
   "source": [
    "fiber.potentials = fiber.point_source_potentials(0, 250, fiber.length / 2, 1, 0.01)\n",
    "\n",
    "plt.plot(fiber.coordinates, fiber.potentials)\n",
    "plt.xlabel('Distance along fiber (μm)')\n",
    "plt.ylabel('Electrical potential (mV)')\n",
    "plt.title('Extracellular potentials')\n",
    "plt.show()"
   ]
  },
  {
   "cell_type": "markdown",
   "metadata": {},
   "source": [
    "## Running a simulation"
   ]
  },
  {
   "cell_type": "markdown",
   "metadata": {},
   "source": [
    "Specify our simulation parameters as constants."
   ]
  },
  {
   "cell_type": "code",
   "execution_count": null,
   "metadata": {},
   "outputs": [],
   "source": [
    "time_step = 0.001  # milliseconds\n",
    "time_stop = 50  # milliseconds"
   ]
  },
  {
   "cell_type": "markdown",
   "metadata": {},
   "source": [
    "To run a simulation, we need an instance of the Stimulation class. This class is used to run simulations of a fiber's response to a stimulation waveform."
   ]
  },
  {
   "cell_type": "code",
   "execution_count": null,
   "metadata": {},
   "outputs": [],
   "source": [
    "from wmglab_neuron import ScaledStim\n",
    "\n",
    "# Create instance of Stimulation class\n",
    "stimulation = ScaledStim(waveform=waveform, dt=time_step, tstop=time_stop)\n",
    "print(stimulation)"
   ]
  },
  {
   "cell_type": "markdown",
   "metadata": {},
   "source": [
    "We can use the `run_sim()` method of the ScaledStim class to run a simulation. By default, this method monitors for action potentials at the distal end of the fiber. `run_sim()` returns the number of detected action potentials and the time of the last action potential."
   ]
  },
  {
   "cell_type": "code",
   "execution_count": null,
   "metadata": {},
   "outputs": [],
   "source": [
    "# TODO: details about scaling by unit stimulus (1mA) and polarity\n",
    "stimamp = -1.5  # mA\n",
    "ap, time = stimulation.run_sim(stimamp, fiber)\n",
    "print(f'Number of action potentials detected: {ap}')\n",
    "print(f'Time of last action potential detection: {time} ms')"
   ]
  },
  {
   "cell_type": "markdown",
   "metadata": {},
   "source": [
    "See also the tutorial for [analyzing results](3_analysis.ipynb)."
   ]
  }
 ],
 "metadata": {
  "kernelspec": {
   "display_name": "Python 3 (ipykernel)",
   "language": "python",
   "name": "python3"
  },
  "language_info": {
   "codemirror_mode": {
    "name": "ipython",
    "version": 3
   },
   "file_extension": ".py",
   "mimetype": "text/x-python",
   "name": "python",
   "nbconvert_exporter": "python",
   "pygments_lexer": "ipython3",
   "version": "3.10.8"
  }
 },
 "nbformat": 4,
 "nbformat_minor": 1
}
